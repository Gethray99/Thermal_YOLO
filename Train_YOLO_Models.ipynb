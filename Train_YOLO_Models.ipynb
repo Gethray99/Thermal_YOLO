{
  "cells": [
    {
      "cell_type": "markdown",
      "metadata": {
        "id": "view-in-github",
        "colab_type": "text"
      },
      "source": [
        "<a href=\"https://colab.research.google.com/github/Gethray99/Thermal_YOLO/blob/main/Train_YOLO_Models.ipynb\" target=\"_parent\"><img src=\"https://colab.research.google.com/assets/colab-badge.svg\" alt=\"Open In Colab\"/></a>"
      ]
    },
    {
      "cell_type": "markdown",
      "metadata": {
        "id": "1sUfcA8ZgR2t"
      },
      "source": [
        "# Train YOLO Models in Google Colab\n",
        "**Author:** Evan Juras, [EJ Technology Consultants](https://ejtech.io)\n",
        "\n",
        "**Last updated:** January 3, 2025\n",
        "\n",
        "**GitHub:** [Train and Deploy YOLO Models](https://github.com/EdjeElectronics/Train-and-Deploy-YOLO-Models)\n",
        "\n",
        "# Introduction\n",
        "\n",
        "This notebook uses [Ultralytics](https://docs.ultralytics.com/) to train YOLO11, YOLOv8, or YOLOv5 object detection models with a custom dataset. At the end of this Colab, you'll have a custom YOLO model that you can run on your PC, phone, or edge device like the Raspberry Pi.\n",
        "\n",
        "<p align=center>\n",
        "<img src=\"https://s3.us-west-1.amazonaws.com/evanjuras.com/img/yolo-model-demo.gif\" height=\"360\"><br>\n",
        "<i>Custom YOLO candy detection model in action!</i>\n",
        "</p>\n",
        "\n",
        "I created a YouTube video that walks through this guide step by step. I recommend following along with the video while working through this notebook.\n",
        "\n",
        "<p align=center>\n",
        "<a href=\"https://youtu.be/r0RspiLG260\" target=\"_blank\"><img src=\"https://raw.githubusercontent.com/EdjeElectronics/Train-and-Deploy-YOLO-Models/refs/heads/main/doc/Train_YOLO_Thumbnail2.png\" height=\"240\"><br>\n",
        "<i>Click here to go to the video!</i></a>\n",
        "</p>\n",
        "\n",
        "**Important note: This notebook will be continuously updated to make sure it works with newer versions of Ultralytics and YOLO. If you see any differences between the YouTube video and this notebook, always follow the notebook!**\n",
        "\n",
        "### Working in Colab\n",
        "Colab provides a virtual machine in your browser complete with a Linux OS, filesystem, Python environment, and best of all, a free GPU. We'll install PyTorch and Ultralytics in this environment and use it to train our model. Simply click the Play button on sections of code in this notebook to execute them on the virtual machine.\n",
        "\n",
        "### Navigation\n",
        "To navigate this notebook, use the table of contents in the left sidebar to jump from section to section.\n",
        "\n",
        "\n",
        "\n"
      ]
    },
    {
      "cell_type": "code",
      "source": [
        "from google.colab import drive\n",
        "drive.mount('/content/drive')"
      ],
      "metadata": {
        "id": "RuUC6IuVqe9P",
        "outputId": "8e9763a5-051b-4407-b512-be8c110bc173",
        "colab": {
          "base_uri": "https://localhost:8080/"
        }
      },
      "execution_count": 2,
      "outputs": [
        {
          "output_type": "stream",
          "name": "stdout",
          "text": [
            "Mounted at /content/drive\n"
          ]
        }
      ]
    },
    {
      "cell_type": "markdown",
      "source": [
        "**Verify NVIDIA GPU Availability**\n",
        "\n",
        "Make sure you're using a GPU-equipped machine by going to \"Runtime\" -> \"Change runtime type\" in the top menu bar, and then selecting one of the GPU options in the Hardware accelerator section. Click Play on the following code block to verify that the NVIDIA GPU is present and ready for training."
      ],
      "metadata": {
        "id": "3NW7LLv_QPOO"
      }
    },
    {
      "cell_type": "code",
      "source": [
        "!nvidia-smi"
      ],
      "metadata": {
        "id": "cfaWho47RGDf",
        "outputId": "b8deba11-2551-4733-c884-37f5c27318de",
        "colab": {
          "base_uri": "https://localhost:8080/"
        }
      },
      "execution_count": 2,
      "outputs": [
        {
          "output_type": "stream",
          "name": "stdout",
          "text": [
            "Sat Apr  5 15:56:47 2025       \n",
            "+-----------------------------------------------------------------------------------------+\n",
            "| NVIDIA-SMI 550.54.15              Driver Version: 550.54.15      CUDA Version: 12.4     |\n",
            "|-----------------------------------------+------------------------+----------------------+\n",
            "| GPU  Name                 Persistence-M | Bus-Id          Disp.A | Volatile Uncorr. ECC |\n",
            "| Fan  Temp   Perf          Pwr:Usage/Cap |           Memory-Usage | GPU-Util  Compute M. |\n",
            "|                                         |                        |               MIG M. |\n",
            "|=========================================+========================+======================|\n",
            "|   0  Tesla T4                       Off |   00000000:00:04.0 Off |                    0 |\n",
            "| N/A   59C    P8             10W /   70W |       0MiB /  15360MiB |      0%      Default |\n",
            "|                                         |                        |                  N/A |\n",
            "+-----------------------------------------+------------------------+----------------------+\n",
            "                                                                                         \n",
            "+-----------------------------------------------------------------------------------------+\n",
            "| Processes:                                                                              |\n",
            "|  GPU   GI   CI        PID   Type   Process name                              GPU Memory |\n",
            "|        ID   ID                                                               Usage      |\n",
            "|=========================================================================================|\n",
            "|  No running processes found                                                             |\n",
            "+-----------------------------------------------------------------------------------------+\n"
          ]
        }
      ]
    },
    {
      "cell_type": "markdown",
      "metadata": {
        "id": "TIHu25pnjjJ1"
      },
      "source": [
        "#1.&nbsp;Gather and Label Training Images"
      ]
    },
    {
      "cell_type": "markdown",
      "metadata": {
        "id": "O6Y1vBiRjpcq"
      },
      "source": [
        "Before we start training, we need to gather and label images that will be used for training the object detection model. A good starting point for a proof-of-concept model is 200 images. The training images should have random objects in the image along with the desired objects, and should have a variety of backgrounds and lighting conditions.\n",
        "\n",
        "There are a couple options for gathering images:\n",
        "\n",
        "\n",
        "*   Build a custom dataset by taking your own pictures of the objects and labeling them (this typically results in the best performance)\n",
        "*   Find a pre-made dataset from sources like [Roboflow Universe](), [Kaggle](), or [Google Images V7]()\n",
        "\n",
        "\n",
        "If you want to build your own dataset, there are several tools available for labeling images. One good option is [Label Studio](https://labelstud.io/?utm_source=youtube&utm_medium=video&utm_campaign=edjeelectronics), a free and open-source labeling tool that has a simple workflow while providing capabilities for more advanced features. My YouTube video that walks through this notebook (link to be added soon) shows how to label images with Label Studio.\n",
        "\n",
        "<p align=center>\n",
        "<img src=\"https://raw.githubusercontent.com/EdjeElectronics/Train-and-Deploy-YOLO-Models/refs/heads/main/doc/label-studio-example.PNG\" height=\"380\"><br>\n",
        "<i>Example of a candy image labeled with Label Studio.</i>\n",
        "</p>\n",
        "\n",
        "If you used Label Studio to label and export the images, they'll be exported in a `project.zip` file that contains the following:\n",
        "\n",
        "- An `images` folder containing the images\n",
        "- A `labels` folder containing the labels in YOLO annotation format\n",
        "- A `classes.txt` labelmap file that contains all the classes\n",
        "- A `notes.json` file that contains info specific to Label Studio (this file can be ignored)\n",
        "\n",
        "If you obtained your dataset from another source (like Roboflow Universe) or used another tool to label your dataset, make sure the files are organized in the same folder structure.\n",
        "\n",
        "<p align=center>\n",
        "<img src=\"https://raw.githubusercontent.com/EdjeElectronics/Train-and-Deploy-YOLO-Models/refs/heads/main/doc/zipped-data-example.png\" height=\"\"><br>\n",
        "<i>Organize your data in the folders shown here. See my <a href=\"https://s3.us-west-1.amazonaws.com/evanjuras.com/resources/candy_data_06JAN25.zip\">Candy Detection Dataset</a> for an example.</i>\n",
        "</p>\n",
        "\n",
        "Once you've got your dataset built, put into the file structure shown above, and zipped into `data.zip`, you're ready to move on to the next step."
      ]
    },
    {
      "cell_type": "markdown",
      "metadata": {
        "id": "8eDhuvzDfIFS"
      },
      "source": [
        "# 2.&nbsp;Upload Image Dataset and Prepare Training Data"
      ]
    },
    {
      "cell_type": "markdown",
      "metadata": {
        "id": "ZW_0c110fOiz"
      },
      "source": [
        "Next, we'll upload our dataset and prepare it for training with YOLO. We'll split the dataset into train and validation folders, and we'll automatically generate the configuration file for training the model."
      ]
    },
    {
      "cell_type": "markdown",
      "source": [
        "## 2.1 Upload images\n",
        "\n",
        "First, we need to upload the dataset to Colab. Here are a few options for moving the `data.zip` folder into this Colab instance."
      ],
      "metadata": {
        "id": "FwKAqFIQSBpn"
      }
    },
    {
      "cell_type": "markdown",
      "source": [
        "**Option 1. Upload through Google Colab**\n",
        "\n",
        "Upload the `data.zip` file to the Google Colab instance by clicking the \"Files\" icon on the left hand side of the browser, and then the \"Upload to session storage\" icon. Select the zip folder to upload it.\n",
        "\n",
        "<p>\n",
        "<br>\n",
        "<img src=\"https://raw.githubusercontent.com/EdjeElectronics/Train-and-Deploy-YOLO-Models/refs/heads/main/doc/upload-colab-files.png\" height=\"240\">\n",
        "</p>\n"
      ],
      "metadata": {
        "id": "ZPZEM27IOh79"
      }
    },
    {
      "cell_type": "markdown",
      "source": [
        "\n",
        "**Option 2. Copy from Google Drive**\n",
        "\n",
        "You can also upload your images to your personal Google Drive, mount the drive on this Colab session, and copy them over to the Colab filesystem. This option works well if you want to upload the images beforehand so you don't have to wait for them to upload each time you restart this Colab. If you have more than 50MB worth of images, I recommend using this option.\n",
        "\n",
        "First, upload the `data.zip` file to your Google Drive, and make note of the folder you uploaded them to. Replace `MyDrive/path/to/data.zip` with the path to your zip file. (For example, I uploaded the zip file to folder called \"candy-dataset1\", so I would use `MyDrive/candy-dataset1/data.zip` for the path). Then, run the following block of code to mount your Google Drive to this Colab session and copy the folder to this filesystem."
      ],
      "metadata": {
        "id": "TC4bZM1UWRdY"
      }
    },
    {
      "cell_type": "code",
      "source": [
        "from google.colab import drive\n",
        "drive.mount('/content/gdrive/')\n",
        "\n",
        "!cp /content/gdrive/MyDrive/YOLOv11/data.zip /content/"
      ],
      "metadata": {
        "id": "ZfQBSwDdWoWp",
        "outputId": "362d3291-63fe-4a9a-9667-b4b90209c3d6",
        "colab": {
          "base_uri": "https://localhost:8080/"
        }
      },
      "execution_count": 1,
      "outputs": [
        {
          "output_type": "stream",
          "name": "stdout",
          "text": [
            "Mounted at /content/gdrive/\n"
          ]
        }
      ]
    },
    {
      "cell_type": "markdown",
      "source": [
        "**Option 3. Use my candy detection or coin detection dataset**\n",
        "\n",
        "If you just want to test the process on a pre-made dataset, you can use one of my datasets:\n",
        "\n",
        "*   [Candy image dataset](https://s3.us-west-1.amazonaws.com/evanjuras.com/resources/candy_data_14DEC24.zip), which contains 162 pictures of popular candies (Skittles, Snickers, etc)\n",
        "*   [Coin image dataset](https://s3.us-west-1.amazonaws.com/evanjuras.com/resources/YOLO_coin_data_12DEC30.zip), which contains 750 pictures of US coins (pennies, dimes, nickels, and quarters)\n",
        "\n",
        "Download one of the datasets by running the following code block. I'll use the candy detection dataset as the example for the rest of the notebook."
      ],
      "metadata": {
        "id": "q43_b9-sWsdB"
      }
    },
    {
      "cell_type": "code",
      "execution_count": null,
      "metadata": {
        "id": "ZQXLBvL5grDl"
      },
      "outputs": [],
      "source": [
        "# To use my one of pre-made dataset instead of your own custom dataset, download it here (control which dataset is downloaded by commenting out either line)\n",
        "!wget -O /content/data.zip https://s3.us-west-1.amazonaws.com/evanjuras.com/resources/candy_data_06JAN25.zip # Candy dataset\n",
        "#!wget -O /content/data.zip https://s3.us-west-1.amazonaws.com/evanjuras.com/resources/YOLO_coin_data_12DEC30.zip # Coin dataset"
      ]
    },
    {
      "cell_type": "markdown",
      "source": [
        "## 2.2 Split images into train and validation folders"
      ],
      "metadata": {
        "id": "m7Iz9eBzW5zm"
      }
    },
    {
      "cell_type": "markdown",
      "source": [
        "At this point, whether you used Option 1, 2, or 3, you should be able to click the folder icon on the left and see your `data.zip` file in the list of files. Next, we'll unzip `data.zip` and create some folders to hold the images. Run the following code block to unzip the data."
      ],
      "metadata": {
        "id": "58JuFGc2PatU"
      }
    },
    {
      "cell_type": "code",
      "execution_count": 3,
      "metadata": {
        "id": "z8O6z-wVcPEF"
      },
      "outputs": [],
      "source": [
        "# Unzip images to a custom data folder\n",
        "!unzip -q /content/data.zip -d /content/custom_data"
      ]
    },
    {
      "cell_type": "markdown",
      "source": [
        "Ultralytics requires a particular folder structure to store training data for models. Ultralytics requires a particular folder structure to store training data for models. The root folder is named “data”. Inside, there are two main folders:\n",
        "\n",
        "*   **Train**: These are the actual images used to train the model. In one epoch of training, every image in the train set is passed into the neural network. The training algorithm adjusts the network weights to fit the data in the images.\n",
        "\n",
        "\n",
        "*   **Validation**: These images are used to check the model's performance at the end of each training epoch.\n",
        "\n",
        "In each of these folders is a “images” folder and a “labels” folder, which hold the image files and annotation files respectively."
      ],
      "metadata": {
        "id": "eoPjqW6AYebn"
      }
    },
    {
      "cell_type": "markdown",
      "source": [
        "\n",
        "I wrote a Python script that will automatically create the required folder structure and randomly move 90% of dataset to the \"train\" folder and 10% to the \"validation\" folder. Run the following code block to download and execute the scrpt."
      ],
      "metadata": {
        "id": "f2ohNAhWj41n"
      }
    },
    {
      "cell_type": "code",
      "source": [
        "!wget -O /content/train_val_split.py https://raw.githubusercontent.com/EdjeElectronics/Train-and-Deploy-YOLO-Models/refs/heads/main/utils/train_val_split.py\n",
        "\n",
        "# TO DO: Improve robustness of train_val_split.py script so it can handle nested data folders, etc\n",
        "!python train_val_split.py --datapath=\"/content/custom_data\" --train_pct=0.9"
      ],
      "metadata": {
        "id": "8X62eFTugosf",
        "outputId": "d8d8d54e-b783-424e-8023-4441e5d5f338",
        "colab": {
          "base_uri": "https://localhost:8080/"
        }
      },
      "execution_count": 4,
      "outputs": [
        {
          "output_type": "stream",
          "name": "stdout",
          "text": [
            "--2025-04-06 03:32:46--  https://raw.githubusercontent.com/EdjeElectronics/Train-and-Deploy-YOLO-Models/refs/heads/main/utils/train_val_split.py\n",
            "Resolving raw.githubusercontent.com (raw.githubusercontent.com)... 185.199.108.133, 185.199.109.133, 185.199.110.133, ...\n",
            "Connecting to raw.githubusercontent.com (raw.githubusercontent.com)|185.199.108.133|:443... connected.\n",
            "HTTP request sent, awaiting response... 200 OK\n",
            "Length: 3203 (3.1K) [text/plain]\n",
            "Saving to: ‘/content/train_val_split.py’\n",
            "\n",
            "\r          /content/   0%[                    ]       0  --.-KB/s               \r/content/train_val_ 100%[===================>]   3.13K  --.-KB/s    in 0s      \n",
            "\n",
            "2025-04-06 03:32:46 (58.2 MB/s) - ‘/content/train_val_split.py’ saved [3203/3203]\n",
            "\n",
            "Created folder at /content/data/train/images.\n",
            "Created folder at /content/data/train/labels.\n",
            "Created folder at /content/data/validation/images.\n",
            "Created folder at /content/data/validation/labels.\n",
            "Number of image files: 0\n",
            "Number of annotation files: 0\n",
            "Images moving to train: 0\n",
            "Images moving to validation: 0\n"
          ]
        }
      ]
    },
    {
      "cell_type": "markdown",
      "source": [
        "# 3.&nbsp;Install Requirements (Ultralytics)\n",
        "\n",
        "Next, we'll install the Ultralytics library in this Google Colab instance. This Python library will be used to train the YOLO model."
      ],
      "metadata": {
        "id": "B2L2qGCJzwY9"
      }
    },
    {
      "cell_type": "code",
      "source": [
        "!pip install ultralytics"
      ],
      "metadata": {
        "id": "EMEDk5byzxY5",
        "outputId": "a8837702-da73-4419-bd9d-76743108bd1f",
        "colab": {
          "base_uri": "https://localhost:8080/"
        }
      },
      "execution_count": 5,
      "outputs": [
        {
          "output_type": "stream",
          "name": "stdout",
          "text": [
            "Collecting ultralytics\n",
            "  Downloading ultralytics-8.3.102-py3-none-any.whl.metadata (37 kB)\n",
            "Requirement already satisfied: numpy<=2.1.1,>=1.23.0 in /usr/local/lib/python3.11/dist-packages (from ultralytics) (2.0.2)\n",
            "Requirement already satisfied: matplotlib>=3.3.0 in /usr/local/lib/python3.11/dist-packages (from ultralytics) (3.10.0)\n",
            "Requirement already satisfied: opencv-python>=4.6.0 in /usr/local/lib/python3.11/dist-packages (from ultralytics) (4.11.0.86)\n",
            "Requirement already satisfied: pillow>=7.1.2 in /usr/local/lib/python3.11/dist-packages (from ultralytics) (11.1.0)\n",
            "Requirement already satisfied: pyyaml>=5.3.1 in /usr/local/lib/python3.11/dist-packages (from ultralytics) (6.0.2)\n",
            "Requirement already satisfied: requests>=2.23.0 in /usr/local/lib/python3.11/dist-packages (from ultralytics) (2.32.3)\n",
            "Requirement already satisfied: scipy>=1.4.1 in /usr/local/lib/python3.11/dist-packages (from ultralytics) (1.14.1)\n",
            "Requirement already satisfied: torch>=1.8.0 in /usr/local/lib/python3.11/dist-packages (from ultralytics) (2.6.0+cu124)\n",
            "Requirement already satisfied: torchvision>=0.9.0 in /usr/local/lib/python3.11/dist-packages (from ultralytics) (0.21.0+cu124)\n",
            "Requirement already satisfied: tqdm>=4.64.0 in /usr/local/lib/python3.11/dist-packages (from ultralytics) (4.67.1)\n",
            "Requirement already satisfied: psutil in /usr/local/lib/python3.11/dist-packages (from ultralytics) (5.9.5)\n",
            "Requirement already satisfied: py-cpuinfo in /usr/local/lib/python3.11/dist-packages (from ultralytics) (9.0.0)\n",
            "Requirement already satisfied: pandas>=1.1.4 in /usr/local/lib/python3.11/dist-packages (from ultralytics) (2.2.2)\n",
            "Requirement already satisfied: seaborn>=0.11.0 in /usr/local/lib/python3.11/dist-packages (from ultralytics) (0.13.2)\n",
            "Collecting ultralytics-thop>=2.0.0 (from ultralytics)\n",
            "  Downloading ultralytics_thop-2.0.14-py3-none-any.whl.metadata (9.4 kB)\n",
            "Requirement already satisfied: contourpy>=1.0.1 in /usr/local/lib/python3.11/dist-packages (from matplotlib>=3.3.0->ultralytics) (1.3.1)\n",
            "Requirement already satisfied: cycler>=0.10 in /usr/local/lib/python3.11/dist-packages (from matplotlib>=3.3.0->ultralytics) (0.12.1)\n",
            "Requirement already satisfied: fonttools>=4.22.0 in /usr/local/lib/python3.11/dist-packages (from matplotlib>=3.3.0->ultralytics) (4.56.0)\n",
            "Requirement already satisfied: kiwisolver>=1.3.1 in /usr/local/lib/python3.11/dist-packages (from matplotlib>=3.3.0->ultralytics) (1.4.8)\n",
            "Requirement already satisfied: packaging>=20.0 in /usr/local/lib/python3.11/dist-packages (from matplotlib>=3.3.0->ultralytics) (24.2)\n",
            "Requirement already satisfied: pyparsing>=2.3.1 in /usr/local/lib/python3.11/dist-packages (from matplotlib>=3.3.0->ultralytics) (3.2.3)\n",
            "Requirement already satisfied: python-dateutil>=2.7 in /usr/local/lib/python3.11/dist-packages (from matplotlib>=3.3.0->ultralytics) (2.8.2)\n",
            "Requirement already satisfied: pytz>=2020.1 in /usr/local/lib/python3.11/dist-packages (from pandas>=1.1.4->ultralytics) (2025.2)\n",
            "Requirement already satisfied: tzdata>=2022.7 in /usr/local/lib/python3.11/dist-packages (from pandas>=1.1.4->ultralytics) (2025.2)\n",
            "Requirement already satisfied: charset-normalizer<4,>=2 in /usr/local/lib/python3.11/dist-packages (from requests>=2.23.0->ultralytics) (3.4.1)\n",
            "Requirement already satisfied: idna<4,>=2.5 in /usr/local/lib/python3.11/dist-packages (from requests>=2.23.0->ultralytics) (3.10)\n",
            "Requirement already satisfied: urllib3<3,>=1.21.1 in /usr/local/lib/python3.11/dist-packages (from requests>=2.23.0->ultralytics) (2.3.0)\n",
            "Requirement already satisfied: certifi>=2017.4.17 in /usr/local/lib/python3.11/dist-packages (from requests>=2.23.0->ultralytics) (2025.1.31)\n",
            "Requirement already satisfied: filelock in /usr/local/lib/python3.11/dist-packages (from torch>=1.8.0->ultralytics) (3.18.0)\n",
            "Requirement already satisfied: typing-extensions>=4.10.0 in /usr/local/lib/python3.11/dist-packages (from torch>=1.8.0->ultralytics) (4.13.0)\n",
            "Requirement already satisfied: networkx in /usr/local/lib/python3.11/dist-packages (from torch>=1.8.0->ultralytics) (3.4.2)\n",
            "Requirement already satisfied: jinja2 in /usr/local/lib/python3.11/dist-packages (from torch>=1.8.0->ultralytics) (3.1.6)\n",
            "Requirement already satisfied: fsspec in /usr/local/lib/python3.11/dist-packages (from torch>=1.8.0->ultralytics) (2025.3.2)\n",
            "Collecting nvidia-cuda-nvrtc-cu12==12.4.127 (from torch>=1.8.0->ultralytics)\n",
            "  Downloading nvidia_cuda_nvrtc_cu12-12.4.127-py3-none-manylinux2014_x86_64.whl.metadata (1.5 kB)\n",
            "Collecting nvidia-cuda-runtime-cu12==12.4.127 (from torch>=1.8.0->ultralytics)\n",
            "  Downloading nvidia_cuda_runtime_cu12-12.4.127-py3-none-manylinux2014_x86_64.whl.metadata (1.5 kB)\n",
            "Collecting nvidia-cuda-cupti-cu12==12.4.127 (from torch>=1.8.0->ultralytics)\n",
            "  Downloading nvidia_cuda_cupti_cu12-12.4.127-py3-none-manylinux2014_x86_64.whl.metadata (1.6 kB)\n",
            "Collecting nvidia-cudnn-cu12==9.1.0.70 (from torch>=1.8.0->ultralytics)\n",
            "  Downloading nvidia_cudnn_cu12-9.1.0.70-py3-none-manylinux2014_x86_64.whl.metadata (1.6 kB)\n",
            "Collecting nvidia-cublas-cu12==12.4.5.8 (from torch>=1.8.0->ultralytics)\n",
            "  Downloading nvidia_cublas_cu12-12.4.5.8-py3-none-manylinux2014_x86_64.whl.metadata (1.5 kB)\n",
            "Collecting nvidia-cufft-cu12==11.2.1.3 (from torch>=1.8.0->ultralytics)\n",
            "  Downloading nvidia_cufft_cu12-11.2.1.3-py3-none-manylinux2014_x86_64.whl.metadata (1.5 kB)\n",
            "Collecting nvidia-curand-cu12==10.3.5.147 (from torch>=1.8.0->ultralytics)\n",
            "  Downloading nvidia_curand_cu12-10.3.5.147-py3-none-manylinux2014_x86_64.whl.metadata (1.5 kB)\n",
            "Collecting nvidia-cusolver-cu12==11.6.1.9 (from torch>=1.8.0->ultralytics)\n",
            "  Downloading nvidia_cusolver_cu12-11.6.1.9-py3-none-manylinux2014_x86_64.whl.metadata (1.6 kB)\n",
            "Collecting nvidia-cusparse-cu12==12.3.1.170 (from torch>=1.8.0->ultralytics)\n",
            "  Downloading nvidia_cusparse_cu12-12.3.1.170-py3-none-manylinux2014_x86_64.whl.metadata (1.6 kB)\n",
            "Requirement already satisfied: nvidia-cusparselt-cu12==0.6.2 in /usr/local/lib/python3.11/dist-packages (from torch>=1.8.0->ultralytics) (0.6.2)\n",
            "Requirement already satisfied: nvidia-nccl-cu12==2.21.5 in /usr/local/lib/python3.11/dist-packages (from torch>=1.8.0->ultralytics) (2.21.5)\n",
            "Requirement already satisfied: nvidia-nvtx-cu12==12.4.127 in /usr/local/lib/python3.11/dist-packages (from torch>=1.8.0->ultralytics) (12.4.127)\n",
            "Collecting nvidia-nvjitlink-cu12==12.4.127 (from torch>=1.8.0->ultralytics)\n",
            "  Downloading nvidia_nvjitlink_cu12-12.4.127-py3-none-manylinux2014_x86_64.whl.metadata (1.5 kB)\n",
            "Requirement already satisfied: triton==3.2.0 in /usr/local/lib/python3.11/dist-packages (from torch>=1.8.0->ultralytics) (3.2.0)\n",
            "Requirement already satisfied: sympy==1.13.1 in /usr/local/lib/python3.11/dist-packages (from torch>=1.8.0->ultralytics) (1.13.1)\n",
            "Requirement already satisfied: mpmath<1.4,>=1.1.0 in /usr/local/lib/python3.11/dist-packages (from sympy==1.13.1->torch>=1.8.0->ultralytics) (1.3.0)\n",
            "Requirement already satisfied: six>=1.5 in /usr/local/lib/python3.11/dist-packages (from python-dateutil>=2.7->matplotlib>=3.3.0->ultralytics) (1.17.0)\n",
            "Requirement already satisfied: MarkupSafe>=2.0 in /usr/local/lib/python3.11/dist-packages (from jinja2->torch>=1.8.0->ultralytics) (3.0.2)\n",
            "Downloading ultralytics-8.3.102-py3-none-any.whl (993 kB)\n",
            "\u001b[2K   \u001b[90m━━━━━━━━━━━━━━━━━━━━━━━━━━━━━━━━━━━━━━━━\u001b[0m \u001b[32m993.8/993.8 kB\u001b[0m \u001b[31m27.9 MB/s\u001b[0m eta \u001b[36m0:00:00\u001b[0m\n",
            "\u001b[?25hDownloading nvidia_cublas_cu12-12.4.5.8-py3-none-manylinux2014_x86_64.whl (363.4 MB)\n",
            "\u001b[2K   \u001b[90m━━━━━━━━━━━━━━━━━━━━━━━━━━━━━━━━━━━━━━━━\u001b[0m \u001b[32m363.4/363.4 MB\u001b[0m \u001b[31m4.3 MB/s\u001b[0m eta \u001b[36m0:00:00\u001b[0m\n",
            "\u001b[?25hDownloading nvidia_cuda_cupti_cu12-12.4.127-py3-none-manylinux2014_x86_64.whl (13.8 MB)\n",
            "\u001b[2K   \u001b[90m━━━━━━━━━━━━━━━━━━━━━━━━━━━━━━━━━━━━━━━━\u001b[0m \u001b[32m13.8/13.8 MB\u001b[0m \u001b[31m108.8 MB/s\u001b[0m eta \u001b[36m0:00:00\u001b[0m\n",
            "\u001b[?25hDownloading nvidia_cuda_nvrtc_cu12-12.4.127-py3-none-manylinux2014_x86_64.whl (24.6 MB)\n",
            "\u001b[2K   \u001b[90m━━━━━━━━━━━━━━━━━━━━━━━━━━━━━━━━━━━━━━━━\u001b[0m \u001b[32m24.6/24.6 MB\u001b[0m \u001b[31m86.5 MB/s\u001b[0m eta \u001b[36m0:00:00\u001b[0m\n",
            "\u001b[?25hDownloading nvidia_cuda_runtime_cu12-12.4.127-py3-none-manylinux2014_x86_64.whl (883 kB)\n",
            "\u001b[2K   \u001b[90m━━━━━━━━━━━━━━━━━━━━━━━━━━━━━━━━━━━━━━━━\u001b[0m \u001b[32m883.7/883.7 kB\u001b[0m \u001b[31m54.5 MB/s\u001b[0m eta \u001b[36m0:00:00\u001b[0m\n",
            "\u001b[?25hDownloading nvidia_cudnn_cu12-9.1.0.70-py3-none-manylinux2014_x86_64.whl (664.8 MB)\n",
            "\u001b[2K   \u001b[90m━━━━━━━━━━━━━━━━━━━━━━━━━━━━━━━━━━━━━━━━\u001b[0m \u001b[32m664.8/664.8 MB\u001b[0m \u001b[31m827.2 kB/s\u001b[0m eta \u001b[36m0:00:00\u001b[0m\n",
            "\u001b[?25hDownloading nvidia_cufft_cu12-11.2.1.3-py3-none-manylinux2014_x86_64.whl (211.5 MB)\n",
            "\u001b[2K   \u001b[90m━━━━━━━━━━━━━━━━━━━━━━━━━━━━━━━━━━━━━━━━\u001b[0m \u001b[32m211.5/211.5 MB\u001b[0m \u001b[31m5.5 MB/s\u001b[0m eta \u001b[36m0:00:00\u001b[0m\n",
            "\u001b[?25hDownloading nvidia_curand_cu12-10.3.5.147-py3-none-manylinux2014_x86_64.whl (56.3 MB)\n",
            "\u001b[2K   \u001b[90m━━━━━━━━━━━━━━━━━━━━━━━━━━━━━━━━━━━━━━━━\u001b[0m \u001b[32m56.3/56.3 MB\u001b[0m \u001b[31m10.8 MB/s\u001b[0m eta \u001b[36m0:00:00\u001b[0m\n",
            "\u001b[?25hDownloading nvidia_cusolver_cu12-11.6.1.9-py3-none-manylinux2014_x86_64.whl (127.9 MB)\n",
            "\u001b[2K   \u001b[90m━━━━━━━━━━━━━━━━━━━━━━━━━━━━━━━━━━━━━━━━\u001b[0m \u001b[32m127.9/127.9 MB\u001b[0m \u001b[31m7.4 MB/s\u001b[0m eta \u001b[36m0:00:00\u001b[0m\n",
            "\u001b[?25hDownloading nvidia_cusparse_cu12-12.3.1.170-py3-none-manylinux2014_x86_64.whl (207.5 MB)\n",
            "\u001b[2K   \u001b[90m━━━━━━━━━━━━━━━━━━━━━━━━━━━━━━━━━━━━━━━━\u001b[0m \u001b[32m207.5/207.5 MB\u001b[0m \u001b[31m5.6 MB/s\u001b[0m eta \u001b[36m0:00:00\u001b[0m\n",
            "\u001b[?25hDownloading nvidia_nvjitlink_cu12-12.4.127-py3-none-manylinux2014_x86_64.whl (21.1 MB)\n",
            "\u001b[2K   \u001b[90m━━━━━━━━━━━━━━━━━━━━━━━━━━━━━━━━━━━━━━━━\u001b[0m \u001b[32m21.1/21.1 MB\u001b[0m \u001b[31m85.2 MB/s\u001b[0m eta \u001b[36m0:00:00\u001b[0m\n",
            "\u001b[?25hDownloading ultralytics_thop-2.0.14-py3-none-any.whl (26 kB)\n",
            "Installing collected packages: nvidia-nvjitlink-cu12, nvidia-curand-cu12, nvidia-cufft-cu12, nvidia-cuda-runtime-cu12, nvidia-cuda-nvrtc-cu12, nvidia-cuda-cupti-cu12, nvidia-cublas-cu12, nvidia-cusparse-cu12, nvidia-cudnn-cu12, nvidia-cusolver-cu12, ultralytics-thop, ultralytics\n",
            "  Attempting uninstall: nvidia-nvjitlink-cu12\n",
            "    Found existing installation: nvidia-nvjitlink-cu12 12.5.82\n",
            "    Uninstalling nvidia-nvjitlink-cu12-12.5.82:\n",
            "      Successfully uninstalled nvidia-nvjitlink-cu12-12.5.82\n",
            "  Attempting uninstall: nvidia-curand-cu12\n",
            "    Found existing installation: nvidia-curand-cu12 10.3.6.82\n",
            "    Uninstalling nvidia-curand-cu12-10.3.6.82:\n",
            "      Successfully uninstalled nvidia-curand-cu12-10.3.6.82\n",
            "  Attempting uninstall: nvidia-cufft-cu12\n",
            "    Found existing installation: nvidia-cufft-cu12 11.2.3.61\n",
            "    Uninstalling nvidia-cufft-cu12-11.2.3.61:\n",
            "      Successfully uninstalled nvidia-cufft-cu12-11.2.3.61\n",
            "  Attempting uninstall: nvidia-cuda-runtime-cu12\n",
            "    Found existing installation: nvidia-cuda-runtime-cu12 12.5.82\n",
            "    Uninstalling nvidia-cuda-runtime-cu12-12.5.82:\n",
            "      Successfully uninstalled nvidia-cuda-runtime-cu12-12.5.82\n",
            "  Attempting uninstall: nvidia-cuda-nvrtc-cu12\n",
            "    Found existing installation: nvidia-cuda-nvrtc-cu12 12.5.82\n",
            "    Uninstalling nvidia-cuda-nvrtc-cu12-12.5.82:\n",
            "      Successfully uninstalled nvidia-cuda-nvrtc-cu12-12.5.82\n",
            "  Attempting uninstall: nvidia-cuda-cupti-cu12\n",
            "    Found existing installation: nvidia-cuda-cupti-cu12 12.5.82\n",
            "    Uninstalling nvidia-cuda-cupti-cu12-12.5.82:\n",
            "      Successfully uninstalled nvidia-cuda-cupti-cu12-12.5.82\n",
            "  Attempting uninstall: nvidia-cublas-cu12\n",
            "    Found existing installation: nvidia-cublas-cu12 12.5.3.2\n",
            "    Uninstalling nvidia-cublas-cu12-12.5.3.2:\n",
            "      Successfully uninstalled nvidia-cublas-cu12-12.5.3.2\n",
            "  Attempting uninstall: nvidia-cusparse-cu12\n",
            "    Found existing installation: nvidia-cusparse-cu12 12.5.1.3\n",
            "    Uninstalling nvidia-cusparse-cu12-12.5.1.3:\n",
            "      Successfully uninstalled nvidia-cusparse-cu12-12.5.1.3\n",
            "  Attempting uninstall: nvidia-cudnn-cu12\n",
            "    Found existing installation: nvidia-cudnn-cu12 9.3.0.75\n",
            "    Uninstalling nvidia-cudnn-cu12-9.3.0.75:\n",
            "      Successfully uninstalled nvidia-cudnn-cu12-9.3.0.75\n",
            "  Attempting uninstall: nvidia-cusolver-cu12\n",
            "    Found existing installation: nvidia-cusolver-cu12 11.6.3.83\n",
            "    Uninstalling nvidia-cusolver-cu12-11.6.3.83:\n",
            "      Successfully uninstalled nvidia-cusolver-cu12-11.6.3.83\n",
            "Successfully installed nvidia-cublas-cu12-12.4.5.8 nvidia-cuda-cupti-cu12-12.4.127 nvidia-cuda-nvrtc-cu12-12.4.127 nvidia-cuda-runtime-cu12-12.4.127 nvidia-cudnn-cu12-9.1.0.70 nvidia-cufft-cu12-11.2.1.3 nvidia-curand-cu12-10.3.5.147 nvidia-cusolver-cu12-11.6.1.9 nvidia-cusparse-cu12-12.3.1.170 nvidia-nvjitlink-cu12-12.4.127 ultralytics-8.3.102 ultralytics-thop-2.0.14\n"
          ]
        }
      ]
    },
    {
      "cell_type": "markdown",
      "metadata": {
        "id": "cuZoMkSFN9XG"
      },
      "source": [
        "# 4.&nbsp;Configure Training\n"
      ]
    },
    {
      "cell_type": "markdown",
      "source": [
        "There's one last step before we can run training: we need to create the Ultralytics training configuration YAML file. This file specifies the location of your train and validation data, and it also defines the model's classes. An example configuration file model is available [here](https://github.com/ultralytics/ultralytics/blob/main/ultralytics/cfg/datasets/coco128.yaml).\n",
        "\n",
        "Run the code block below to automatically generate a `data.yaml` configuration file. Make sure you have a labelmap file located at `custom_data/classes.txt`. If you used Label Studio or one of my pre-made datasets, it should already be present. If you assembled the dataset another way, you may have to manually create the `classes.txt` file (see [here](https://github.com/EdjeElectronics/Train-and-Deploy-YOLO-Models/blob/main/doc/classes.txt) for an example of how it's formatted)."
      ],
      "metadata": {
        "id": "0c5Kdh0GmQHS"
      }
    },
    {
      "cell_type": "code",
      "source": [
        "# Python function to automatically create data.yaml config file\n",
        "# 1. Reads \"classes.txt\" file to get list of class names\n",
        "# 2. Creates data dictionary with correct paths to folders, number of classes, and names of classes\n",
        "# 3. Writes data in YAML format to data.yaml\n",
        "\n",
        "import yaml\n",
        "import os\n",
        "\n",
        "def create_data_yaml(path_to_classes_txt, path_to_data_yaml):\n",
        "\n",
        "  # Read class.txt to get class names\n",
        "  if not os.path.exists(path_to_classes_txt):\n",
        "    print(f'classes.txt file not found! Please create a classes.txt labelmap and move it to {path_to_classes_txt}')\n",
        "    return\n",
        "  with open(path_to_classes_txt, 'r') as f:\n",
        "    classes = []\n",
        "    for line in f.readlines():\n",
        "      if len(line.strip()) == 0: continue\n",
        "      classes.append(line.strip())\n",
        "  number_of_classes = len(classes)\n",
        "\n",
        "  # Create data dictionary\n",
        "  data = {\n",
        "      'path': '/content/data',\n",
        "      'train': 'train/images',\n",
        "      'val': 'validation/images',\n",
        "      'nc': number_of_classes,\n",
        "      'names': classes\n",
        "  }\n",
        "\n",
        "  # Write data to YAML file\n",
        "  with open(path_to_data_yaml, 'w') as f:\n",
        "    yaml.dump(data, f, sort_keys=False)\n",
        "  print(f'Created config file at {path_to_data_yaml}')\n",
        "\n",
        "  return\n",
        "\n",
        "# Define path to classes.txt and run function\n",
        "path_to_classes_txt = '/content/custom_data/train_data/classes.txt'\n",
        "path_to_data_yaml = '/content/data.yaml'\n",
        "\n",
        "create_data_yaml(path_to_classes_txt, path_to_data_yaml)\n",
        "\n",
        "print('\\nFile contents:\\n')\n",
        "!cat /content/data.yaml"
      ],
      "metadata": {
        "id": "4letvP7X12ji",
        "outputId": "592b7f88-c901-462e-b5c6-9071f881b2cf",
        "colab": {
          "base_uri": "https://localhost:8080/"
        }
      },
      "execution_count": 6,
      "outputs": [
        {
          "output_type": "stream",
          "name": "stdout",
          "text": [
            "Created config file at /content/data.yaml\n",
            "\n",
            "File contents:\n",
            "\n",
            "path: /content/data\n",
            "train: train/images\n",
            "val: validation/images\n",
            "nc: 9\n",
            "names:\n",
            "- Transformer_Tank\n",
            "- Crossbar\n",
            "- DDLO\n",
            "- Pin_Insulator\n",
            "- Disk_Insulator\n",
            "- Front_Single_Pole\n",
            "- Front_Double_Pole\n",
            "- Side_Single_Pole\n",
            "- Side_Double_Pole\n"
          ]
        }
      ]
    },
    {
      "cell_type": "markdown",
      "metadata": {
        "id": "myP80_bnTNMi"
      },
      "source": [
        "# 5.&nbsp;Train Model"
      ]
    },
    {
      "cell_type": "markdown",
      "source": [
        "## 5.1 Training Parameters\n",
        "Now that the data is organized and the config file is created, we're ready to start training! First, there are a few important parameters to decide on. Visit my article on [Training YOLO Models Locally](https://www.ejtech.io/learn/train-yolo-models) to learn more about these parameters and how to choose them.\n",
        "\n",
        "**Model architecture & size (`model`):**\n",
        "\n",
        "There are several YOLO11 models sizes available to train, including `yolo11n.pt`, `yolo11s.pt`, `yolo11m.pt`, `yolo11l.pt`, and `yolo11xl.pt`. Larger models run slower but have higher accuracy, while smaller models run faster but have lower accuracy. I made a brief YouTube video that compares performance of different YOLO models on a Raspberry Pi 5 and a laptop with a RTX 4050 GPU, [check it out here to get a sense of their speed accuracy](https://youtu.be/_WKS4E9SmkA). If you aren't sure which model size to use, `yolo11s.pt` is a good starting point.\n",
        "\n",
        "You can also train YOLOv8 or YOLOv5 models by substituting `yolo11` for `yolov8` or `yolov5`.\n",
        "\n",
        "\n",
        "**Number of epochs (`epochs`)**\n",
        "\n",
        "In machine learning, one “epoch” is one single pass through the full training dataset. Setting the number of epochs dictates how long the model will train for. The best amount of epochs to use depends on the size of the dataset and the model architecture. If your dataset has less than 200 images, a good starting point is 60 epochs. If your dataset has more than 200 images, a good starting point is 40 epochs.\n",
        "\n",
        "\n",
        "**Resolution (`imgsz`)**\n",
        "\n",
        "Resolution has a large impact on the speed and accuracy of the model: a lower resolution model will have higher speed but less accuracy. YOLO models are typically trained and inferenced at a 640x640 resolution. However, if you want your model to run faster or know you will be working with low-resolution images, try using a lower resolution like 480x480.\n"
      ],
      "metadata": {
        "id": "DfKspYasCzC8"
      }
    },
    {
      "cell_type": "markdown",
      "source": [
        "## 5.2 Run Training!"
      ],
      "metadata": {
        "id": "V17UjYU5ZQdR"
      }
    },
    {
      "cell_type": "markdown",
      "source": [
        "Run the following code block to begin training. If you want to use a different model, number of epochs, or resolution, change `model`, `epochs`, or `imgsz`."
      ],
      "metadata": {
        "id": "nQi_hXnUVPr-"
      }
    },
    {
      "cell_type": "code",
      "execution_count": 12,
      "metadata": {
        "id": "8bbpob1gTPlo",
        "outputId": "4ec1becc-7a9c-4a0f-88c4-95bb32521188",
        "colab": {
          "base_uri": "https://localhost:8080/"
        }
      },
      "outputs": [
        {
          "output_type": "stream",
          "name": "stdout",
          "text": [
            "Ultralytics 8.3.102 🚀 Python-3.11.11 torch-2.6.0+cu124 CUDA:0 (Tesla T4, 15095MiB)\n",
            "\u001b[34m\u001b[1mengine/trainer: \u001b[0mtask=detect, mode=train, model=yolo11s.pt, data=/content/data.yaml, epochs=40, time=None, patience=100, batch=16, imgsz=640, save=True, save_period=-1, cache=False, device=None, workers=8, project=None, name=train3, exist_ok=False, pretrained=True, optimizer=auto, verbose=True, seed=0, deterministic=True, single_cls=False, rect=False, cos_lr=False, close_mosaic=10, resume=False, amp=True, fraction=1.0, profile=False, freeze=None, multi_scale=False, overlap_mask=True, mask_ratio=4, dropout=0.0, val=True, split=val, save_json=False, save_hybrid=False, conf=None, iou=0.7, max_det=300, half=False, dnn=False, plots=True, source=None, vid_stride=1, stream_buffer=False, visualize=False, augment=False, agnostic_nms=False, classes=None, retina_masks=False, embed=None, show=False, save_frames=False, save_txt=False, save_conf=False, save_crop=False, show_labels=True, show_conf=True, show_boxes=True, line_width=None, format=torchscript, keras=False, optimize=False, int8=False, dynamic=False, simplify=True, opset=None, workspace=None, nms=False, lr0=0.01, lrf=0.01, momentum=0.937, weight_decay=0.0005, warmup_epochs=3.0, warmup_momentum=0.8, warmup_bias_lr=0.1, box=7.5, cls=0.5, dfl=1.5, pose=12.0, kobj=1.0, nbs=64, hsv_h=0.015, hsv_s=0.7, hsv_v=0.4, degrees=0.0, translate=0.1, scale=0.5, shear=0.0, perspective=0.0, flipud=0.0, fliplr=0.5, bgr=0.0, mosaic=1.0, mixup=0.0, copy_paste=0.0, copy_paste_mode=flip, auto_augment=randaugment, erasing=0.4, crop_fraction=1.0, cfg=None, tracker=botsort.yaml, save_dir=runs/detect/train3\n",
            "WARNING: All log messages before absl::InitializeLog() is called are written to STDERR\n",
            "E0000 00:00:1743917770.724396   32169 cuda_dnn.cc:8310] Unable to register cuDNN factory: Attempting to register factory for plugin cuDNN when one has already been registered\n",
            "E0000 00:00:1743917770.730923   32169 cuda_blas.cc:1418] Unable to register cuBLAS factory: Attempting to register factory for plugin cuBLAS when one has already been registered\n",
            "Overriding model.yaml nc=80 with nc=9\n",
            "\n",
            "                   from  n    params  module                                       arguments                     \n",
            "  0                  -1  1       928  ultralytics.nn.modules.conv.Conv             [3, 32, 3, 2]                 \n",
            "  1                  -1  1     18560  ultralytics.nn.modules.conv.Conv             [32, 64, 3, 2]                \n",
            "  2                  -1  1     26080  ultralytics.nn.modules.block.C3k2            [64, 128, 1, False, 0.25]     \n",
            "  3                  -1  1    147712  ultralytics.nn.modules.conv.Conv             [128, 128, 3, 2]              \n",
            "  4                  -1  1    103360  ultralytics.nn.modules.block.C3k2            [128, 256, 1, False, 0.25]    \n",
            "  5                  -1  1    590336  ultralytics.nn.modules.conv.Conv             [256, 256, 3, 2]              \n",
            "  6                  -1  1    346112  ultralytics.nn.modules.block.C3k2            [256, 256, 1, True]           \n",
            "  7                  -1  1   1180672  ultralytics.nn.modules.conv.Conv             [256, 512, 3, 2]              \n",
            "  8                  -1  1   1380352  ultralytics.nn.modules.block.C3k2            [512, 512, 1, True]           \n",
            "  9                  -1  1    656896  ultralytics.nn.modules.block.SPPF            [512, 512, 5]                 \n",
            " 10                  -1  1    990976  ultralytics.nn.modules.block.C2PSA           [512, 512, 1]                 \n",
            " 11                  -1  1         0  torch.nn.modules.upsampling.Upsample         [None, 2, 'nearest']          \n",
            " 12             [-1, 6]  1         0  ultralytics.nn.modules.conv.Concat           [1]                           \n",
            " 13                  -1  1    443776  ultralytics.nn.modules.block.C3k2            [768, 256, 1, False]          \n",
            " 14                  -1  1         0  torch.nn.modules.upsampling.Upsample         [None, 2, 'nearest']          \n",
            " 15             [-1, 4]  1         0  ultralytics.nn.modules.conv.Concat           [1]                           \n",
            " 16                  -1  1    127680  ultralytics.nn.modules.block.C3k2            [512, 128, 1, False]          \n",
            " 17                  -1  1    147712  ultralytics.nn.modules.conv.Conv             [128, 128, 3, 2]              \n",
            " 18            [-1, 13]  1         0  ultralytics.nn.modules.conv.Concat           [1]                           \n",
            " 19                  -1  1    345472  ultralytics.nn.modules.block.C3k2            [384, 256, 1, False]          \n",
            " 20                  -1  1    590336  ultralytics.nn.modules.conv.Conv             [256, 256, 3, 2]              \n",
            " 21            [-1, 10]  1         0  ultralytics.nn.modules.conv.Concat           [1]                           \n",
            " 22                  -1  1   1511424  ultralytics.nn.modules.block.C3k2            [768, 512, 1, True]           \n",
            " 23        [16, 19, 22]  1    822891  ultralytics.nn.modules.head.Detect           [9, [128, 256, 512]]          \n",
            "YOLO11s summary: 181 layers, 9,431,275 parameters, 9,431,259 gradients, 21.6 GFLOPs\n",
            "\n",
            "Transferred 493/499 items from pretrained weights\n",
            "\u001b[34m\u001b[1mTensorBoard: \u001b[0mStart with 'tensorboard --logdir runs/detect/train3', view at http://localhost:6006/\n",
            "Freezing layer 'model.23.dfl.conv.weight'\n",
            "\u001b[34m\u001b[1mAMP: \u001b[0mrunning Automatic Mixed Precision (AMP) checks...\n",
            "\u001b[34m\u001b[1mAMP: \u001b[0mchecks passed ✅\n",
            "\u001b[34m\u001b[1mtrain: \u001b[0mScanning /content/custom_data/train_data/labels/train.cache... 659 images, 0 backgrounds, 0 corrupt: 100% 659/659 [00:00<?, ?it/s]\n",
            "\u001b[34m\u001b[1malbumentations: \u001b[0mBlur(p=0.01, blur_limit=(3, 7)), MedianBlur(p=0.01, blur_limit=(3, 7)), ToGray(p=0.01, num_output_channels=3, method='weighted_average'), CLAHE(p=0.01, clip_limit=(1.0, 4.0), tile_grid_size=(8, 8))\n",
            "\u001b[34m\u001b[1mval: \u001b[0mScanning /content/custom_data/train_data/labels/val.cache... 400 images, 0 backgrounds, 0 corrupt: 100% 400/400 [00:00<?, ?it/s]\n",
            "Plotting labels to runs/detect/train3/labels.jpg... \n",
            "\u001b[34m\u001b[1moptimizer:\u001b[0m 'optimizer=auto' found, ignoring 'lr0=0.01' and 'momentum=0.937' and determining best 'optimizer', 'lr0' and 'momentum' automatically... \n",
            "\u001b[34m\u001b[1moptimizer:\u001b[0m AdamW(lr=0.000769, momentum=0.9) with parameter groups 81 weight(decay=0.0), 88 weight(decay=0.0005), 87 bias(decay=0.0)\n",
            "\u001b[34m\u001b[1mTensorBoard: \u001b[0mmodel graph visualization added ✅\n",
            "Image sizes 640 train, 640 val\n",
            "Using 2 dataloader workers\n",
            "Logging results to \u001b[1mruns/detect/train3\u001b[0m\n",
            "Starting training for 40 epochs...\n",
            "\n",
            "      Epoch    GPU_mem   box_loss   cls_loss   dfl_loss  Instances       Size\n",
            "       1/40      4.09G      1.907      3.133      1.653         45        640: 100% 42/42 [00:15<00:00,  2.79it/s]\n",
            "                 Class     Images  Instances      Box(P          R      mAP50  mAP50-95): 100% 13/13 [00:05<00:00,  2.28it/s]\n",
            "                   all        400       2349      0.345      0.448      0.364      0.146\n",
            "\n",
            "      Epoch    GPU_mem   box_loss   cls_loss   dfl_loss  Instances       Size\n",
            "       2/40      4.37G      1.677      1.698      1.426         38        640: 100% 42/42 [00:13<00:00,  3.19it/s]\n",
            "                 Class     Images  Instances      Box(P          R      mAP50  mAP50-95): 100% 13/13 [00:03<00:00,  3.94it/s]\n",
            "                   all        400       2349      0.502      0.407      0.422      0.186\n",
            "\n",
            "      Epoch    GPU_mem   box_loss   cls_loss   dfl_loss  Instances       Size\n",
            "       3/40      4.37G      1.607      1.481      1.372         42        640: 100% 42/42 [00:13<00:00,  3.21it/s]\n",
            "                 Class     Images  Instances      Box(P          R      mAP50  mAP50-95): 100% 13/13 [00:03<00:00,  4.10it/s]\n",
            "                   all        400       2349      0.618      0.446      0.422      0.177\n",
            "\n",
            "      Epoch    GPU_mem   box_loss   cls_loss   dfl_loss  Instances       Size\n",
            "       4/40      4.37G      1.562      1.374      1.363         48        640: 100% 42/42 [00:13<00:00,  3.22it/s]\n",
            "                 Class     Images  Instances      Box(P          R      mAP50  mAP50-95): 100% 13/13 [00:03<00:00,  4.31it/s]\n",
            "                   all        400       2349       0.59      0.474       0.45      0.172\n",
            "\n",
            "      Epoch    GPU_mem   box_loss   cls_loss   dfl_loss  Instances       Size\n",
            "       5/40      4.39G      1.559      1.332      1.358         47        640: 100% 42/42 [00:13<00:00,  3.14it/s]\n",
            "                 Class     Images  Instances      Box(P          R      mAP50  mAP50-95): 100% 13/13 [00:02<00:00,  4.39it/s]\n",
            "                   all        400       2349      0.652      0.427      0.476      0.185\n",
            "\n",
            "      Epoch    GPU_mem   box_loss   cls_loss   dfl_loss  Instances       Size\n",
            "       6/40      4.45G      1.505      1.252       1.31         47        640: 100% 42/42 [00:12<00:00,  3.25it/s]\n",
            "                 Class     Images  Instances      Box(P          R      mAP50  mAP50-95): 100% 13/13 [00:03<00:00,  3.28it/s]\n",
            "                   all        400       2349      0.545      0.491      0.438      0.209\n",
            "\n",
            "      Epoch    GPU_mem   box_loss   cls_loss   dfl_loss  Instances       Size\n",
            "       7/40      4.45G      1.464      1.194      1.283         52        640: 100% 42/42 [00:13<00:00,  3.22it/s]\n",
            "                 Class     Images  Instances      Box(P          R      mAP50  mAP50-95): 100% 13/13 [00:03<00:00,  3.92it/s]\n",
            "                   all        400       2349      0.677       0.54      0.542      0.231\n",
            "\n",
            "      Epoch    GPU_mem   box_loss   cls_loss   dfl_loss  Instances       Size\n",
            "       8/40      4.45G      1.449      1.181      1.292         34        640: 100% 42/42 [00:13<00:00,  3.15it/s]\n",
            "                 Class     Images  Instances      Box(P          R      mAP50  mAP50-95): 100% 13/13 [00:02<00:00,  4.45it/s]\n",
            "                   all        400       2349      0.628      0.558      0.547      0.238\n",
            "\n",
            "      Epoch    GPU_mem   box_loss   cls_loss   dfl_loss  Instances       Size\n",
            "       9/40      4.47G      1.453      1.184      1.284         24        640: 100% 42/42 [00:13<00:00,  3.18it/s]\n",
            "                 Class     Images  Instances      Box(P          R      mAP50  mAP50-95): 100% 13/13 [00:02<00:00,  4.42it/s]\n",
            "                   all        400       2349      0.527       0.55      0.529      0.262\n",
            "\n",
            "      Epoch    GPU_mem   box_loss   cls_loss   dfl_loss  Instances       Size\n",
            "      10/40      4.49G       1.43      1.129      1.267         53        640: 100% 42/42 [00:13<00:00,  3.14it/s]\n",
            "                 Class     Images  Instances      Box(P          R      mAP50  mAP50-95): 100% 13/13 [00:02<00:00,  4.49it/s]\n",
            "                   all        400       2349      0.532      0.648      0.575      0.248\n",
            "\n",
            "      Epoch    GPU_mem   box_loss   cls_loss   dfl_loss  Instances       Size\n",
            "      11/40      4.49G      1.451      1.131      1.272         22        640: 100% 42/42 [00:13<00:00,  3.22it/s]\n",
            "                 Class     Images  Instances      Box(P          R      mAP50  mAP50-95): 100% 13/13 [00:03<00:00,  3.39it/s]\n",
            "                   all        400       2349      0.611       0.65       0.59       0.25\n",
            "\n",
            "      Epoch    GPU_mem   box_loss   cls_loss   dfl_loss  Instances       Size\n",
            "      12/40      4.49G        1.4      1.088      1.252         43        640: 100% 42/42 [00:13<00:00,  3.20it/s]\n",
            "                 Class     Images  Instances      Box(P          R      mAP50  mAP50-95): 100% 13/13 [00:03<00:00,  3.98it/s]\n",
            "                   all        400       2349      0.542      0.673      0.574      0.271\n",
            "\n",
            "      Epoch    GPU_mem   box_loss   cls_loss   dfl_loss  Instances       Size\n",
            "      13/40      4.49G      1.418      1.105       1.26         21        640: 100% 42/42 [00:13<00:00,  3.16it/s]\n",
            "                 Class     Images  Instances      Box(P          R      mAP50  mAP50-95): 100% 13/13 [00:02<00:00,  4.42it/s]\n",
            "                   all        400       2349      0.561      0.659      0.603      0.277\n",
            "\n",
            "      Epoch    GPU_mem   box_loss   cls_loss   dfl_loss  Instances       Size\n",
            "      14/40      4.49G      1.346      1.025      1.213         28        640: 100% 42/42 [00:13<00:00,  3.18it/s]\n",
            "                 Class     Images  Instances      Box(P          R      mAP50  mAP50-95): 100% 13/13 [00:02<00:00,  4.38it/s]\n",
            "                   all        400       2349      0.569      0.622      0.552       0.26\n",
            "\n",
            "      Epoch    GPU_mem   box_loss   cls_loss   dfl_loss  Instances       Size\n",
            "      15/40      4.49G      1.359      1.012      1.215         15        640: 100% 42/42 [00:13<00:00,  3.16it/s]\n",
            "                 Class     Images  Instances      Box(P          R      mAP50  mAP50-95): 100% 13/13 [00:03<00:00,  4.25it/s]\n",
            "                   all        400       2349      0.589      0.657      0.607      0.292\n",
            "\n",
            "      Epoch    GPU_mem   box_loss   cls_loss   dfl_loss  Instances       Size\n",
            "      16/40      4.49G      1.317     0.9843      1.197         28        640: 100% 42/42 [00:13<00:00,  3.22it/s]\n",
            "                 Class     Images  Instances      Box(P          R      mAP50  mAP50-95): 100% 13/13 [00:03<00:00,  3.31it/s]\n",
            "                   all        400       2349        0.6      0.593      0.568      0.254\n",
            "\n",
            "      Epoch    GPU_mem   box_loss   cls_loss   dfl_loss  Instances       Size\n",
            "      17/40      4.49G      1.338      1.016      1.216         12        640: 100% 42/42 [00:13<00:00,  3.12it/s]\n",
            "                 Class     Images  Instances      Box(P          R      mAP50  mAP50-95): 100% 13/13 [00:02<00:00,  4.37it/s]\n",
            "                   all        400       2349      0.599      0.619       0.59      0.257\n",
            "\n",
            "      Epoch    GPU_mem   box_loss   cls_loss   dfl_loss  Instances       Size\n",
            "      18/40      4.49G      1.298      0.963      1.196         37        640: 100% 42/42 [00:13<00:00,  3.11it/s]\n",
            "                 Class     Images  Instances      Box(P          R      mAP50  mAP50-95): 100% 13/13 [00:02<00:00,  4.39it/s]\n",
            "                   all        400       2349      0.631      0.591      0.601      0.276\n",
            "\n",
            "      Epoch    GPU_mem   box_loss   cls_loss   dfl_loss  Instances       Size\n",
            "      19/40      4.49G      1.309     0.9599      1.185         49        640: 100% 42/42 [00:13<00:00,  3.13it/s]\n",
            "                 Class     Images  Instances      Box(P          R      mAP50  mAP50-95): 100% 13/13 [00:02<00:00,  4.36it/s]\n",
            "                   all        400       2349      0.619      0.659       0.63      0.288\n",
            "\n",
            "      Epoch    GPU_mem   box_loss   cls_loss   dfl_loss  Instances       Size\n",
            "      20/40      4.49G      1.297      0.962      1.186         36        640: 100% 42/42 [00:13<00:00,  3.15it/s]\n",
            "                 Class     Images  Instances      Box(P          R      mAP50  mAP50-95): 100% 13/13 [00:02<00:00,  4.41it/s]\n",
            "                   all        400       2349      0.573      0.663      0.575      0.266\n",
            "\n",
            "      Epoch    GPU_mem   box_loss   cls_loss   dfl_loss  Instances       Size\n",
            "      21/40      4.49G      1.265     0.9296       1.17         41        640: 100% 42/42 [00:13<00:00,  3.22it/s]\n",
            "                 Class     Images  Instances      Box(P          R      mAP50  mAP50-95): 100% 13/13 [00:03<00:00,  3.33it/s]\n",
            "                   all        400       2349      0.623      0.638      0.621      0.281\n",
            "\n",
            "      Epoch    GPU_mem   box_loss   cls_loss   dfl_loss  Instances       Size\n",
            "      22/40      4.49G      1.279     0.9449      1.189         46        640: 100% 42/42 [00:12<00:00,  3.27it/s]\n",
            "                 Class     Images  Instances      Box(P          R      mAP50  mAP50-95): 100% 13/13 [00:03<00:00,  3.88it/s]\n",
            "                   all        400       2349      0.612      0.646      0.602      0.282\n",
            "\n",
            "      Epoch    GPU_mem   box_loss   cls_loss   dfl_loss  Instances       Size\n",
            "      23/40      4.49G      1.252     0.9075      1.169         64        640: 100% 42/42 [00:13<00:00,  3.20it/s]\n",
            "                 Class     Images  Instances      Box(P          R      mAP50  mAP50-95): 100% 13/13 [00:02<00:00,  4.47it/s]\n",
            "                   all        400       2349      0.644      0.609       0.59      0.279\n",
            "\n",
            "      Epoch    GPU_mem   box_loss   cls_loss   dfl_loss  Instances       Size\n",
            "      24/40      4.51G       1.26       0.92      1.173         38        640: 100% 42/42 [00:13<00:00,  3.05it/s]\n",
            "                 Class     Images  Instances      Box(P          R      mAP50  mAP50-95): 100% 13/13 [00:03<00:00,  3.65it/s]\n",
            "                   all        400       2349       0.58      0.687      0.613      0.265\n",
            "\n",
            "      Epoch    GPU_mem   box_loss   cls_loss   dfl_loss  Instances       Size\n",
            "      25/40      4.51G      1.214     0.8766      1.135         28        640: 100% 42/42 [00:13<00:00,  3.10it/s]\n",
            "                 Class     Images  Instances      Box(P          R      mAP50  mAP50-95): 100% 13/13 [00:03<00:00,  3.86it/s]\n",
            "                   all        400       2349      0.626      0.642      0.623      0.269\n",
            "\n",
            "      Epoch    GPU_mem   box_loss   cls_loss   dfl_loss  Instances       Size\n",
            "      26/40      4.51G      1.214     0.8631      1.153         48        640: 100% 42/42 [00:12<00:00,  3.30it/s]\n",
            "                 Class     Images  Instances      Box(P          R      mAP50  mAP50-95): 100% 13/13 [00:03<00:00,  3.28it/s]\n",
            "                   all        400       2349      0.625      0.672      0.621      0.294\n",
            "\n",
            "      Epoch    GPU_mem   box_loss   cls_loss   dfl_loss  Instances       Size\n",
            "      27/40      4.51G      1.186     0.8575      1.136         43        640: 100% 42/42 [00:13<00:00,  3.22it/s]\n",
            "                 Class     Images  Instances      Box(P          R      mAP50  mAP50-95): 100% 13/13 [00:02<00:00,  4.38it/s]\n",
            "                   all        400       2349      0.629       0.68      0.608      0.281\n",
            "\n",
            "      Epoch    GPU_mem   box_loss   cls_loss   dfl_loss  Instances       Size\n",
            "      28/40      4.51G       1.19     0.8317      1.118         60        640: 100% 42/42 [00:13<00:00,  3.15it/s]\n",
            "                 Class     Images  Instances      Box(P          R      mAP50  mAP50-95): 100% 13/13 [00:02<00:00,  4.45it/s]\n",
            "                   all        400       2349      0.611      0.679      0.612      0.278\n",
            "\n",
            "      Epoch    GPU_mem   box_loss   cls_loss   dfl_loss  Instances       Size\n",
            "      29/40      4.51G      1.177      0.825      1.137         36        640: 100% 42/42 [00:13<00:00,  3.19it/s]\n",
            "                 Class     Images  Instances      Box(P          R      mAP50  mAP50-95): 100% 13/13 [00:02<00:00,  4.45it/s]\n",
            "                   all        400       2349      0.615      0.642        0.6      0.262\n",
            "\n",
            "      Epoch    GPU_mem   box_loss   cls_loss   dfl_loss  Instances       Size\n",
            "      30/40      4.51G      1.177     0.8273      1.119         44        640: 100% 42/42 [00:13<00:00,  3.18it/s]\n",
            "                 Class     Images  Instances      Box(P          R      mAP50  mAP50-95): 100% 13/13 [00:02<00:00,  4.43it/s]\n",
            "                   all        400       2349      0.635      0.645      0.609      0.275\n",
            "Closing dataloader mosaic\n",
            "\u001b[34m\u001b[1malbumentations: \u001b[0mBlur(p=0.01, blur_limit=(3, 7)), MedianBlur(p=0.01, blur_limit=(3, 7)), ToGray(p=0.01, num_output_channels=3, method='weighted_average'), CLAHE(p=0.01, clip_limit=(1.0, 4.0), tile_grid_size=(8, 8))\n",
            "\n",
            "      Epoch    GPU_mem   box_loss   cls_loss   dfl_loss  Instances       Size\n",
            "      31/40      4.51G       1.19     0.7844      1.147         26        640: 100% 42/42 [00:14<00:00,  2.91it/s]\n",
            "                 Class     Images  Instances      Box(P          R      mAP50  mAP50-95): 100% 13/13 [00:03<00:00,  3.53it/s]\n",
            "                   all        400       2349      0.644      0.657      0.621      0.287\n",
            "\n",
            "      Epoch    GPU_mem   box_loss   cls_loss   dfl_loss  Instances       Size\n",
            "      32/40      4.51G      1.153     0.7735      1.133         22        640: 100% 42/42 [00:12<00:00,  3.30it/s]\n",
            "                 Class     Images  Instances      Box(P          R      mAP50  mAP50-95): 100% 13/13 [00:03<00:00,  4.27it/s]\n",
            "                   all        400       2349      0.642      0.676      0.619      0.276\n",
            "\n",
            "      Epoch    GPU_mem   box_loss   cls_loss   dfl_loss  Instances       Size\n",
            "      33/40      4.51G      1.156     0.7613      1.141         22        640: 100% 42/42 [00:12<00:00,  3.30it/s]\n",
            "                 Class     Images  Instances      Box(P          R      mAP50  mAP50-95): 100% 13/13 [00:02<00:00,  4.47it/s]\n",
            "                   all        400       2349      0.665      0.643      0.614      0.275\n",
            "\n",
            "      Epoch    GPU_mem   box_loss   cls_loss   dfl_loss  Instances       Size\n",
            "      34/40      4.51G      1.128     0.7447      1.127         26        640: 100% 42/42 [00:12<00:00,  3.27it/s]\n",
            "                 Class     Images  Instances      Box(P          R      mAP50  mAP50-95): 100% 13/13 [00:02<00:00,  4.45it/s]\n",
            "                   all        400       2349      0.618      0.669      0.599      0.261\n",
            "\n",
            "      Epoch    GPU_mem   box_loss   cls_loss   dfl_loss  Instances       Size\n",
            "      35/40      4.51G      1.114     0.7066      1.107         12        640: 100% 42/42 [00:12<00:00,  3.26it/s]\n",
            "                 Class     Images  Instances      Box(P          R      mAP50  mAP50-95): 100% 13/13 [00:02<00:00,  4.45it/s]\n",
            "                   all        400       2349      0.642      0.664      0.622      0.285\n",
            "\n",
            "      Epoch    GPU_mem   box_loss   cls_loss   dfl_loss  Instances       Size\n",
            "      36/40      4.51G      1.099     0.6935      1.104         24        640: 100% 42/42 [00:12<00:00,  3.28it/s]\n",
            "                 Class     Images  Instances      Box(P          R      mAP50  mAP50-95): 100% 13/13 [00:03<00:00,  4.11it/s]\n",
            "                   all        400       2349      0.634      0.681      0.622       0.28\n",
            "\n",
            "      Epoch    GPU_mem   box_loss   cls_loss   dfl_loss  Instances       Size\n",
            "      37/40      4.51G      1.076     0.6838      1.097         12        640: 100% 42/42 [00:12<00:00,  3.36it/s]\n",
            "                 Class     Images  Instances      Box(P          R      mAP50  mAP50-95): 100% 13/13 [00:04<00:00,  3.21it/s]\n",
            "                   all        400       2349      0.659      0.667      0.618      0.297\n",
            "\n",
            "      Epoch    GPU_mem   box_loss   cls_loss   dfl_loss  Instances       Size\n",
            "      38/40      4.51G      1.059     0.6692      1.072         28        640: 100% 42/42 [00:12<00:00,  3.42it/s]\n",
            "                 Class     Images  Instances      Box(P          R      mAP50  mAP50-95): 100% 13/13 [00:03<00:00,  3.76it/s]\n",
            "                   all        400       2349      0.633      0.671      0.623      0.279\n",
            "\n",
            "      Epoch    GPU_mem   box_loss   cls_loss   dfl_loss  Instances       Size\n",
            "      39/40      4.51G      1.044     0.6492      1.069         23        640: 100% 42/42 [00:12<00:00,  3.25it/s]\n",
            "                 Class     Images  Instances      Box(P          R      mAP50  mAP50-95): 100% 13/13 [00:02<00:00,  4.53it/s]\n",
            "                   all        400       2349      0.637      0.681      0.619      0.277\n",
            "\n",
            "      Epoch    GPU_mem   box_loss   cls_loss   dfl_loss  Instances       Size\n",
            "      40/40      4.51G      1.053     0.6426      1.071         27        640: 100% 42/42 [00:12<00:00,  3.28it/s]\n",
            "                 Class     Images  Instances      Box(P          R      mAP50  mAP50-95): 100% 13/13 [00:02<00:00,  4.51it/s]\n",
            "                   all        400       2349      0.644      0.672       0.62      0.282\n",
            "\n",
            "40 epochs completed in 0.191 hours.\n",
            "Optimizer stripped from runs/detect/train3/weights/last.pt, 19.2MB\n",
            "Optimizer stripped from runs/detect/train3/weights/best.pt, 19.2MB\n",
            "\n",
            "Validating runs/detect/train3/weights/best.pt...\n",
            "Ultralytics 8.3.102 🚀 Python-3.11.11 torch-2.6.0+cu124 CUDA:0 (Tesla T4, 15095MiB)\n",
            "YOLO11s summary (fused): 100 layers, 9,416,283 parameters, 0 gradients, 21.3 GFLOPs\n",
            "                 Class     Images  Instances      Box(P          R      mAP50  mAP50-95): 100% 13/13 [00:05<00:00,  2.18it/s]\n",
            "                   all        400       2349      0.659      0.666      0.618      0.297\n",
            "      Transformer_Tank        382        397      0.949      0.887      0.903      0.512\n",
            "              Crossbar          6          6    0.00341      0.333    0.00327    0.00189\n",
            "                  DDLO        328        850      0.714      0.772      0.707      0.278\n",
            "         Pin_Insulator        149        425       0.49      0.428      0.366     0.0988\n",
            "        Disk_Insulator        125        327      0.743      0.612      0.676      0.195\n",
            "     Front_Single_Pole         85         85      0.654      0.812      0.734      0.381\n",
            "     Front_Double_Pole         29         30      0.905      0.639      0.746      0.445\n",
            "      Side_Single_Pole        217        218      0.851      0.789      0.826      0.443\n",
            "      Side_Double_Pole         11         11      0.617      0.727      0.603      0.315\n",
            "Speed: 0.2ms preprocess, 3.0ms inference, 0.0ms loss, 2.3ms postprocess per image\n",
            "Results saved to \u001b[1mruns/detect/train3\u001b[0m\n",
            "💡 Learn more at https://docs.ultralytics.com/modes/train\n"
          ]
        }
      ],
      "source": [
        "!yolo detect train data=/content/data.yaml model=yolo11s.pt epochs=40 imgsz=640"
      ]
    },
    {
      "cell_type": "markdown",
      "source": [
        "The training algorithm will parse the images in the training and validation directories and then start training the model. At the end of each training epoch, the program runs the model on the validation dataset and reports the resulting mAP, precision, and recall. As training continues, the mAP should generally increase with each epoch. Training will end once it goes through the number of epochs specified by `epochs`.\n",
        "\n",
        "> **NOTE:** Make sure to allow training to run to completion, because an optimizer runs at the end of training that strips out unneeded layers from the model.\n",
        "\n",
        "The best trained model weights will be saved in `content/runs/detect/train/weights/best.pt`. Additional information about training is saved in the `content/runs/detect/train` folder, including a `results.png` file that shows how loss, precision, recall, and mAP progressed over each epoch."
      ],
      "metadata": {
        "id": "vv0EYWJ5V6mC"
      }
    },
    {
      "cell_type": "markdown",
      "metadata": {
        "id": "vo8BJRXeg0Ap"
      },
      "source": [
        "#6.&nbsp;Test Model"
      ]
    },
    {
      "cell_type": "markdown",
      "source": [
        "The model has been trained; now it's time to test it! The commands below run the model on the images in the validation folder and then display the results for the first 10 images. This is a good way to confirm your model is working as expected. Click Play on the blocks below to see how your model performs."
      ],
      "metadata": {
        "id": "BX3PTrEPacGY"
      }
    },
    {
      "cell_type": "code",
      "execution_count": 11,
      "metadata": {
        "id": "PooP5Vjsg2Jn",
        "outputId": "ba7485ea-0137-43af-cfc1-6416d3198a1a",
        "colab": {
          "base_uri": "https://localhost:8080/"
        }
      },
      "outputs": [
        {
          "output_type": "stream",
          "name": "stdout",
          "text": [
            "Ultralytics 8.3.102 🚀 Python-3.11.11 torch-2.6.0+cu124 CUDA:0 (Tesla T4, 15095MiB)\n",
            "YOLO11s summary (fused): 100 layers, 9,416,283 parameters, 0 gradients, 21.3 GFLOPs\n",
            "\n",
            "image 1/400 /content/custom_data/train_data/images/val/1.jpg: 320x480 1 DDLO, 2 Pin_Insulators, 1 Side_Single_Pole, 51.3ms\n",
            "image 2/400 /content/custom_data/train_data/images/val/10.jpg: 320x480 3 Transformer_Tanks, 2 Crossbars, 3 DDLOs, 6 Pin_Insulators, 1 Side_Single_Pole, 9.5ms\n",
            "image 3/400 /content/custom_data/train_data/images/val/100.jpg: 320x480 1 Transformer_Tank, 1 Crossbar, 1 DDLO, 1 Pin_Insulator, 1 Disk_Insulator, 8.6ms\n",
            "image 4/400 /content/custom_data/train_data/images/val/101.jpg: 320x480 1 Transformer_Tank, 1 Crossbar, 2 Pin_Insulators, 1 Side_Single_Pole, 8.5ms\n",
            "image 5/400 /content/custom_data/train_data/images/val/102.jpg: 320x480 1 Transformer_Tank, 1 Crossbar, 1 DDLO, 3 Disk_Insulators, 1 Side_Single_Pole, 8.4ms\n",
            "image 6/400 /content/custom_data/train_data/images/val/103.jpg: 320x480 1 Transformer_Tank, 3 Crossbars, 3 DDLOs, 1 Front_Single_Pole, 9.0ms\n",
            "image 7/400 /content/custom_data/train_data/images/val/104.jpg: 320x480 1 Transformer_Tank, 2 Crossbars, 2 DDLOs, 1 Side_Single_Pole, 10.3ms\n",
            "image 8/400 /content/custom_data/train_data/images/val/105.jpg: 320x480 1 Transformer_Tank, 2 Crossbars, 2 DDLOs, 1 Pin_Insulator, 1 Disk_Insulator, 1 Side_Single_Pole, 9.6ms\n",
            "image 9/400 /content/custom_data/train_data/images/val/106.jpg: 320x480 1 Transformer_Tank, 1 Crossbar, 3 DDLOs, 1 Front_Single_Pole, 8.5ms\n",
            "image 10/400 /content/custom_data/train_data/images/val/107.jpg: 320x480 1 Transformer_Tank, 2 Crossbars, 1 DDLO, 1 Disk_Insulator, 1 Side_Single_Pole, 8.4ms\n",
            "image 11/400 /content/custom_data/train_data/images/val/108.jpg: 320x480 1 Transformer_Tank, 1 Crossbar, 4 DDLOs, 1 Side_Single_Pole, 8.4ms\n",
            "image 12/400 /content/custom_data/train_data/images/val/109.jpg: 320x480 1 DDLO, 8.4ms\n",
            "image 13/400 /content/custom_data/train_data/images/val/11.jpg: 320x480 1 Pin_Insulator, 8.4ms\n",
            "image 14/400 /content/custom_data/train_data/images/val/110.jpg: 320x480 1 DDLO, 8.5ms\n",
            "image 15/400 /content/custom_data/train_data/images/val/111.jpg: 320x480 1 Transformer_Tank, 2 DDLOs, 1 Side_Single_Pole, 8.4ms\n",
            "image 16/400 /content/custom_data/train_data/images/val/112.jpg: 320x480 1 Transformer_Tank, 1 Crossbar, 3 DDLOs, 1 Front_Single_Pole, 10.6ms\n",
            "image 17/400 /content/custom_data/train_data/images/val/113.jpg: 320x480 1 Transformer_Tank, 2 Crossbars, 3 DDLOs, 1 Disk_Insulator, 1 Side_Single_Pole, 8.4ms\n",
            "image 18/400 /content/custom_data/train_data/images/val/114.jpg: 320x480 1 Transformer_Tank, 1 Crossbar, 4 DDLOs, 2 Pin_Insulators, 6 Disk_Insulators, 1 Side_Single_Pole, 8.5ms\n",
            "image 19/400 /content/custom_data/train_data/images/val/115.jpg: 320x480 1 Transformer_Tank, 4 Crossbars, 3 DDLOs, 2 Disk_Insulators, 8.4ms\n",
            "image 20/400 /content/custom_data/train_data/images/val/116.jpg: 320x480 1 Transformer_Tank, 3 Crossbars, 2 DDLOs, 3 Disk_Insulators, 1 Front_Single_Pole, 8.4ms\n",
            "image 21/400 /content/custom_data/train_data/images/val/117.jpg: 320x480 1 Transformer_Tank, 3 Crossbars, 1 Disk_Insulator, 1 Side_Single_Pole, 8.5ms\n",
            "image 22/400 /content/custom_data/train_data/images/val/118.jpg: 320x480 1 Transformer_Tank, 1 Crossbar, 3 DDLOs, 2 Disk_Insulators, 1 Side_Single_Pole, 8.4ms\n",
            "image 23/400 /content/custom_data/train_data/images/val/119.jpg: 320x480 1 Transformer_Tank, 1 Crossbar, 1 DDLO, 1 Pin_Insulator, 1 Front_Single_Pole, 8.2ms\n",
            "image 24/400 /content/custom_data/train_data/images/val/12.jpg: 320x480 1 Transformer_Tank, 1 Crossbar, 3 DDLOs, 5 Pin_Insulators, 1 Side_Single_Pole, 8.3ms\n",
            "image 25/400 /content/custom_data/train_data/images/val/120.jpg: 320x480 3 Transformer_Tanks, 1 Crossbar, 2 DDLOs, 2 Disk_Insulators, 1 Side_Single_Pole, 8.2ms\n",
            "image 26/400 /content/custom_data/train_data/images/val/121.jpg: 320x480 1 Transformer_Tank, 1 Crossbar, 2 DDLOs, 2 Disk_Insulators, 1 Side_Single_Pole, 8.2ms\n",
            "image 27/400 /content/custom_data/train_data/images/val/122.jpg: 320x480 1 Transformer_Tank, 2 Crossbars, 3 DDLOs, 3 Disk_Insulators, 1 Front_Single_Pole, 8.3ms\n",
            "image 28/400 /content/custom_data/train_data/images/val/123.jpg: 320x480 1 Transformer_Tank, 2 DDLOs, 1 Disk_Insulator, 1 Front_Double_Pole, 8.1ms\n",
            "image 29/400 /content/custom_data/train_data/images/val/124.jpg: 320x480 1 Transformer_Tank, 8.3ms\n",
            "image 30/400 /content/custom_data/train_data/images/val/125.jpg: 320x480 1 Transformer_Tank, 2 Crossbars, 3 Pin_Insulators, 2 Disk_Insulators, 10.5ms\n",
            "image 31/400 /content/custom_data/train_data/images/val/126.jpg: 320x480 1 Transformer_Tank, 2 Crossbars, 1 DDLO, 2 Pin_Insulators, 1 Side_Single_Pole, 14.0ms\n",
            "image 32/400 /content/custom_data/train_data/images/val/127.jpg: 320x480 1 Transformer_Tank, 3 Crossbars, 3 DDLOs, 1 Pin_Insulator, 1 Front_Single_Pole, 8.3ms\n",
            "image 33/400 /content/custom_data/train_data/images/val/128.jpg: 320x480 1 Transformer_Tank, 2 Crossbars, 3 DDLOs, 1 Pin_Insulator, 1 Side_Single_Pole, 8.1ms\n",
            "image 34/400 /content/custom_data/train_data/images/val/129.jpg: 320x480 1 Transformer_Tank, 2 Crossbars, 2 DDLOs, 3 Disk_Insulators, 1 Side_Single_Pole, 8.0ms\n",
            "image 35/400 /content/custom_data/train_data/images/val/13.jpg: 320x480 1 Transformer_Tank, 5 Crossbars, 3 DDLOs, 11 Pin_Insulators, 2 Disk_Insulators, 1 Side_Single_Pole, 8.0ms\n",
            "image 36/400 /content/custom_data/train_data/images/val/130.jpg: 320x480 1 Transformer_Tank, 3 Crossbars, 2 DDLOs, 8.7ms\n",
            "image 37/400 /content/custom_data/train_data/images/val/131.jpg: 320x480 1 Transformer_Tank, 4 Crossbars, 3 DDLOs, 1 Pin_Insulator, 1 Front_Single_Pole, 8.1ms\n",
            "image 38/400 /content/custom_data/train_data/images/val/132.jpg: 320x480 1 Transformer_Tank, 2 Crossbars, 2 DDLOs, 1 Pin_Insulator, 1 Side_Single_Pole, 8.2ms\n",
            "image 39/400 /content/custom_data/train_data/images/val/133.jpg: 320x480 2 Transformer_Tanks, 1 Crossbar, 2 DDLOs, 3 Pin_Insulators, 2 Disk_Insulators, 1 Side_Single_Pole, 8.7ms\n",
            "image 40/400 /content/custom_data/train_data/images/val/134.jpg: 320x480 1 Transformer_Tank, 2 Crossbars, 4 DDLOs, 3 Disk_Insulators, 1 Front_Single_Pole, 8.3ms\n",
            "image 41/400 /content/custom_data/train_data/images/val/135.jpg: 320x480 1 Transformer_Tank, 2 Crossbars, 2 DDLOs, 2 Pin_Insulators, 2 Disk_Insulators, 1 Side_Single_Pole, 8.0ms\n",
            "image 42/400 /content/custom_data/train_data/images/val/136.jpg: 320x480 1 Transformer_Tank, 2 Crossbars, 3 DDLOs, 2 Side_Single_Poles, 8.1ms\n",
            "image 43/400 /content/custom_data/train_data/images/val/137.jpg: 320x480 1 Transformer_Tank, 5 Crossbars, 3 DDLOs, 3 Pin_Insulators, 3 Disk_Insulators, 1 Front_Double_Pole, 8.3ms\n",
            "image 44/400 /content/custom_data/train_data/images/val/138.jpg: 320x480 2 Transformer_Tanks, 3 Crossbars, 3 DDLOs, 3 Pin_Insulators, 3 Disk_Insulators, 1 Side_Double_Pole, 8.0ms\n",
            "image 45/400 /content/custom_data/train_data/images/val/139.jpg: 320x480 1 Transformer_Tank, 3 Crossbars, 3 DDLOs, 1 Pin_Insulator, 2 Disk_Insulators, 2 Front_Double_Poles, 8.2ms\n",
            "image 46/400 /content/custom_data/train_data/images/val/14.jpg: 320x480 1 Transformer_Tank, 2 DDLOs, 1 Disk_Insulator, 1 Side_Single_Pole, 8.0ms\n",
            "image 47/400 /content/custom_data/train_data/images/val/140.jpg: 320x480 1 Transformer_Tank, 1 Crossbar, 4 DDLOs, 1 Front_Single_Pole, 9.1ms\n",
            "image 48/400 /content/custom_data/train_data/images/val/141.jpg: 320x480 1 Transformer_Tank, 1 Crossbar, 3 DDLOs, 1 Side_Single_Pole, 8.0ms\n",
            "image 49/400 /content/custom_data/train_data/images/val/142.jpg: 320x480 1 Transformer_Tank, 1 Crossbar, 2 DDLOs, 2 Pin_Insulators, 1 Side_Single_Pole, 8.4ms\n",
            "image 50/400 /content/custom_data/train_data/images/val/143.jpg: 320x480 1 Transformer_Tank, 2 Crossbars, 3 DDLOs, 3 Disk_Insulators, 1 Side_Single_Pole, 12.0ms\n",
            "image 51/400 /content/custom_data/train_data/images/val/144.jpg: 320x480 1 Transformer_Tank, 2 Crossbars, 4 DDLOs, 3 Disk_Insulators, 1 Side_Single_Pole, 8.0ms\n",
            "image 52/400 /content/custom_data/train_data/images/val/145.jpg: 320x480 1 Transformer_Tank, 2 Crossbars, 2 DDLOs, 2 Pin_Insulators, 1 Side_Single_Pole, 8.2ms\n",
            "image 53/400 /content/custom_data/train_data/images/val/146.jpg: 320x480 1 Transformer_Tank, 1 DDLO, 8.0ms\n",
            "image 54/400 /content/custom_data/train_data/images/val/147.jpg: 320x480 1 Transformer_Tank, 3 Crossbars, 2 DDLOs, 1 Side_Single_Pole, 8.2ms\n",
            "image 55/400 /content/custom_data/train_data/images/val/148.jpg: 320x480 1 Transformer_Tank, 1 Crossbar, 3 DDLOs, 3 Disk_Insulators, 1 Side_Single_Pole, 8.2ms\n",
            "image 56/400 /content/custom_data/train_data/images/val/149.jpg: 320x480 1 Transformer_Tank, 2 Crossbars, 3 DDLOs, 3 Disk_Insulators, 1 Side_Single_Pole, 8.1ms\n",
            "image 57/400 /content/custom_data/train_data/images/val/15.jpg: 320x480 1 Transformer_Tank, 3 Crossbars, 3 DDLOs, 4 Pin_Insulators, 1 Side_Single_Pole, 8.2ms\n",
            "image 58/400 /content/custom_data/train_data/images/val/150.jpg: 320x480 1 Transformer_Tank, 1 Crossbar, 1 DDLO, 2 Disk_Insulators, 8.0ms\n",
            "image 59/400 /content/custom_data/train_data/images/val/151.jpg: 320x480 1 Transformer_Tank, 2 Crossbars, 3 DDLOs, 2 Disk_Insulators, 1 Side_Single_Pole, 8.0ms\n",
            "image 60/400 /content/custom_data/train_data/images/val/152.jpg: 320x480 1 Transformer_Tank, 1 Crossbar, 3 DDLOs, 1 Front_Single_Pole, 8.0ms\n",
            "image 61/400 /content/custom_data/train_data/images/val/153.jpg: 320x480 1 Transformer_Tank, 1 Crossbar, 2 DDLOs, 1 Side_Single_Pole, 8.0ms\n",
            "image 62/400 /content/custom_data/train_data/images/val/154.jpg: 320x480 1 Transformer_Tank, 1 Crossbar, 2 DDLOs, 1 Side_Single_Pole, 9.7ms\n",
            "image 63/400 /content/custom_data/train_data/images/val/155.jpg: 320x480 1 Transformer_Tank, 2 Crossbars, 3 DDLOs, 3 Disk_Insulators, 1 Front_Single_Pole, 8.7ms\n",
            "image 64/400 /content/custom_data/train_data/images/val/156.jpg: 320x480 2 Transformer_Tanks, 2 Crossbars, 3 DDLOs, 1 Pin_Insulator, 2 Disk_Insulators, 1 Front_Single_Pole, 8.6ms\n",
            "image 65/400 /content/custom_data/train_data/images/val/157.jpg: 320x480 (no detections), 7.9ms\n",
            "image 66/400 /content/custom_data/train_data/images/val/158.jpg: 320x480 2 DDLOs, 8.2ms\n",
            "image 67/400 /content/custom_data/train_data/images/val/159.jpg: 320x480 1 Transformer_Tank, 1 Disk_Insulator, 8.2ms\n",
            "image 68/400 /content/custom_data/train_data/images/val/16.jpg: 320x480 1 Transformer_Tank, 1 Crossbar, 2 DDLOs, 4 Pin_Insulators, 1 Side_Single_Pole, 8.0ms\n",
            "image 69/400 /content/custom_data/train_data/images/val/160.jpg: 320x480 1 Transformer_Tank, 1 Disk_Insulator, 8.0ms\n",
            "image 70/400 /content/custom_data/train_data/images/val/161.jpg: 320x480 1 Transformer_Tank, 3 Crossbars, 1 DDLO, 1 Pin_Insulator, 5 Disk_Insulators, 8.1ms\n",
            "image 71/400 /content/custom_data/train_data/images/val/162.jpg: 320x480 1 Transformer_Tank, 3 Crossbars, 3 DDLOs, 1 Disk_Insulator, 1 Front_Double_Pole, 8.1ms\n",
            "image 72/400 /content/custom_data/train_data/images/val/163.jpg: 320x480 1 Transformer_Tank, 2 Crossbars, 3 DDLOs, 2 Pin_Insulators, 1 Side_Single_Pole, 8.2ms\n",
            "image 73/400 /content/custom_data/train_data/images/val/164.jpg: 320x480 1 Transformer_Tank, 1 Crossbar, 3 DDLOs, 1 Disk_Insulator, 1 Front_Single_Pole, 8.0ms\n",
            "image 74/400 /content/custom_data/train_data/images/val/165.jpg: 320x480 1 Transformer_Tank, 2 Crossbars, 2 DDLOs, 1 Pin_Insulator, 1 Side_Single_Pole, 7.9ms\n",
            "image 75/400 /content/custom_data/train_data/images/val/166.jpg: 320x480 1 Transformer_Tank, 2 DDLOs, 2 Pin_Insulators, 1 Side_Single_Pole, 9.2ms\n",
            "image 76/400 /content/custom_data/train_data/images/val/167.jpg: 320x480 1 Transformer_Tank, 1 Crossbar, 3 DDLOs, 1 Disk_Insulator, 1 Front_Single_Pole, 9.9ms\n",
            "image 77/400 /content/custom_data/train_data/images/val/168.jpg: 320x480 1 Transformer_Tank, 1 DDLO, 2 Pin_Insulators, 9.5ms\n",
            "image 78/400 /content/custom_data/train_data/images/val/169.jpg: 320x480 1 Transformer_Tank, 1 Crossbar, 2 DDLOs, 1 Pin_Insulator, 1 Side_Single_Pole, 8.1ms\n",
            "image 79/400 /content/custom_data/train_data/images/val/17.jpg: 320x480 1 Transformer_Tank, 2 Crossbars, 2 DDLOs, 1 Pin_Insulator, 1 Front_Single_Pole, 8.2ms\n",
            "image 80/400 /content/custom_data/train_data/images/val/170.jpg: 320x480 1 Transformer_Tank, 2 Crossbars, 3 DDLOs, 1 Front_Single_Pole, 8.3ms\n",
            "image 81/400 /content/custom_data/train_data/images/val/171.jpg: 320x480 1 Transformer_Tank, 2 Crossbars, 2 DDLOs, 3 Pin_Insulators, 1 Side_Single_Pole, 8.1ms\n",
            "image 82/400 /content/custom_data/train_data/images/val/172.jpg: 320x480 1 Transformer_Tank, 1 Crossbar, 4 DDLOs, 3 Pin_Insulators, 1 Side_Single_Pole, 8.6ms\n",
            "image 83/400 /content/custom_data/train_data/images/val/173.jpg: 320x480 1 Transformer_Tank, 1 Crossbar, 3 DDLOs, 1 Front_Single_Pole, 8.0ms\n",
            "image 84/400 /content/custom_data/train_data/images/val/174.jpg: 320x480 1 Transformer_Tank, 1 Crossbar, 3 DDLOs, 2 Pin_Insulators, 1 Side_Single_Pole, 8.0ms\n",
            "image 85/400 /content/custom_data/train_data/images/val/175.jpg: 320x480 2 Crossbars, 2 DDLOs, 3 Pin_Insulators, 1 Side_Single_Pole, 1 Side_Double_Pole, 8.0ms\n",
            "image 86/400 /content/custom_data/train_data/images/val/176.jpg: 320x480 (no detections), 8.1ms\n",
            "image 87/400 /content/custom_data/train_data/images/val/177.jpg: 320x480 1 Transformer_Tank, 1 Crossbar, 3 DDLOs, 4 Pin_Insulators, 1 Side_Single_Pole, 8.0ms\n",
            "image 88/400 /content/custom_data/train_data/images/val/178.jpg: 320x480 1 Transformer_Tank, 2 Crossbars, 2 DDLOs, 1 Pin_Insulator, 1 Side_Single_Pole, 8.0ms\n",
            "image 89/400 /content/custom_data/train_data/images/val/179.jpg: 320x480 1 Crossbar, 3 DDLOs, 2 Front_Single_Poles, 8.1ms\n",
            "image 90/400 /content/custom_data/train_data/images/val/18.jpg: 320x480 1 Transformer_Tank, 1 Crossbar, 4 DDLOs, 3 Pin_Insulators, 1 Side_Single_Pole, 8.2ms\n",
            "image 91/400 /content/custom_data/train_data/images/val/180.jpg: 320x480 1 Transformer_Tank, 2 Crossbars, 3 DDLOs, 3 Disk_Insulators, 1 Front_Single_Pole, 7.9ms\n",
            "image 92/400 /content/custom_data/train_data/images/val/181.jpg: 320x480 1 Transformer_Tank, 3 Crossbars, 3 DDLOs, 3 Disk_Insulators, 1 Front_Single_Pole, 8.1ms\n",
            "image 93/400 /content/custom_data/train_data/images/val/182.jpg: 320x480 1 Transformer_Tank, 2 Crossbars, 3 DDLOs, 1 Pin_Insulator, 3 Disk_Insulators, 1 Side_Single_Pole, 8.2ms\n",
            "image 94/400 /content/custom_data/train_data/images/val/183.jpg: 320x480 1 Transformer_Tank, 3 DDLOs, 1 Pin_Insulator, 1 Side_Single_Pole, 8.0ms\n",
            "image 95/400 /content/custom_data/train_data/images/val/184.jpg: 320x480 1 Transformer_Tank, 3 Crossbars, 3 DDLOs, 3 Pin_Insulators, 1 Front_Single_Pole, 7.9ms\n",
            "image 96/400 /content/custom_data/train_data/images/val/185.jpg: 320x480 1 Transformer_Tank, 2 Crossbars, 3 DDLOs, 2 Pin_Insulators, 1 Front_Single_Pole, 8.0ms\n",
            "image 97/400 /content/custom_data/train_data/images/val/186.jpg: 320x480 1 Transformer_Tank, 1 Crossbar, 2 DDLOs, 2 Pin_Insulators, 1 Side_Single_Pole, 8.4ms\n",
            "image 98/400 /content/custom_data/train_data/images/val/187.jpg: 320x480 1 Transformer_Tank, 7.9ms\n",
            "image 99/400 /content/custom_data/train_data/images/val/188.jpg: 320x480 1 Transformer_Tank, 3 Crossbars, 3 DDLOs, 1 Side_Single_Pole, 8.0ms\n",
            "image 100/400 /content/custom_data/train_data/images/val/189.jpg: 320x480 1 Transformer_Tank, 1 Crossbar, 1 DDLO, 1 Side_Single_Pole, 9.3ms\n",
            "image 101/400 /content/custom_data/train_data/images/val/19.jpg: 320x480 3 Transformer_Tanks, 1 Crossbar, 2 DDLOs, 2 Pin_Insulators, 1 Side_Single_Pole, 8.1ms\n",
            "image 102/400 /content/custom_data/train_data/images/val/190.jpg: 320x480 2 Transformer_Tanks, 1 Crossbar, 3 DDLOs, 1 Front_Single_Pole, 10.4ms\n",
            "image 103/400 /content/custom_data/train_data/images/val/191.jpg: 320x480 1 Transformer_Tank, 1 Crossbar, 3 DDLOs, 1 Disk_Insulator, 1 Side_Single_Pole, 13.4ms\n",
            "image 104/400 /content/custom_data/train_data/images/val/192.jpg: 320x480 1 Transformer_Tank, 2 Crossbars, 3 DDLOs, 3 Pin_Insulators, 1 Front_Single_Pole, 8.1ms\n",
            "image 105/400 /content/custom_data/train_data/images/val/193.jpg: 320x480 1 Transformer_Tank, 2 Crossbars, 3 DDLOs, 3 Pin_Insulators, 1 Side_Single_Pole, 8.0ms\n",
            "image 106/400 /content/custom_data/train_data/images/val/194.jpg: 320x480 1 Transformer_Tank, 2 Crossbars, 3 DDLOs, 3 Pin_Insulators, 1 Side_Single_Pole, 8.2ms\n",
            "image 107/400 /content/custom_data/train_data/images/val/195.jpg: 320x480 3 Transformer_Tanks, 3 DDLOs, 2 Pin_Insulators, 1 Side_Single_Pole, 8.1ms\n",
            "image 108/400 /content/custom_data/train_data/images/val/196.jpg: 320x480 2 Transformer_Tanks, 2 DDLOs, 1 Side_Single_Pole, 8.1ms\n",
            "image 109/400 /content/custom_data/train_data/images/val/197.jpg: 320x480 1 Transformer_Tank, 1 Crossbar, 3 DDLOs, 1 Side_Single_Pole, 8.1ms\n",
            "image 110/400 /content/custom_data/train_data/images/val/198.jpg: 320x480 1 Crossbar, 3 DDLOs, 1 Front_Single_Pole, 1 Side_Single_Pole, 8.1ms\n",
            "image 111/400 /content/custom_data/train_data/images/val/199.jpg: 320x480 1 Transformer_Tank, 1 Crossbar, 3 DDLOs, 1 Pin_Insulator, 1 Side_Single_Pole, 8.6ms\n",
            "image 112/400 /content/custom_data/train_data/images/val/2.jpg: 320x480 3 DDLOs, 1 Side_Single_Pole, 8.6ms\n",
            "image 113/400 /content/custom_data/train_data/images/val/20.jpg: 320x480 1 Transformer_Tank, 1 Crossbar, 3 DDLOs, 2 Pin_Insulators, 1 Front_Single_Pole, 8.0ms\n",
            "image 114/400 /content/custom_data/train_data/images/val/200.jpg: 320x480 1 Transformer_Tank, 1 Crossbar, 5 DDLOs, 1 Front_Single_Pole, 11.9ms\n",
            "image 115/400 /content/custom_data/train_data/images/val/201.jpg: 320x480 1 Transformer_Tank, 4 DDLOs, 2 Pin_Insulators, 1 Side_Single_Pole, 8.6ms\n",
            "image 116/400 /content/custom_data/train_data/images/val/202.jpg: 320x480 1 Transformer_Tank, 3 DDLOs, 1 Side_Single_Pole, 8.4ms\n",
            "image 117/400 /content/custom_data/train_data/images/val/203.jpg: 320x480 1 Transformer_Tank, 1 DDLO, 1 Front_Single_Pole, 8.1ms\n",
            "image 118/400 /content/custom_data/train_data/images/val/204.jpg: 320x480 1 Transformer_Tank, 2 Crossbars, 3 DDLOs, 1 Side_Single_Pole, 8.0ms\n",
            "image 119/400 /content/custom_data/train_data/images/val/205.jpg: 320x480 2 Transformer_Tanks, 3 DDLOs, 1 Front_Single_Pole, 8.2ms\n",
            "image 120/400 /content/custom_data/train_data/images/val/206.jpg: 320x480 1 Transformer_Tank, 1 Side_Single_Pole, 8.8ms\n",
            "image 121/400 /content/custom_data/train_data/images/val/207.jpg: 320x480 1 Transformer_Tank, 2 Crossbars, 2 DDLOs, 4 Pin_Insulators, 1 Front_Single_Pole, 10.4ms\n",
            "image 122/400 /content/custom_data/train_data/images/val/208.jpg: 320x480 1 Transformer_Tank, 3 DDLOs, 1 Side_Single_Pole, 7.9ms\n",
            "image 123/400 /content/custom_data/train_data/images/val/209.jpg: 320x480 1 Transformer_Tank, 1 Crossbar, 3 DDLOs, 3 Pin_Insulators, 1 Side_Single_Pole, 7.9ms\n",
            "image 124/400 /content/custom_data/train_data/images/val/21.jpg: 320x480 1 Transformer_Tank, 3 DDLOs, 3 Pin_Insulators, 1 Side_Single_Pole, 8.3ms\n",
            "image 125/400 /content/custom_data/train_data/images/val/210.jpg: 320x480 1 Transformer_Tank, 3 DDLOs, 1 Front_Single_Pole, 8.4ms\n",
            "image 126/400 /content/custom_data/train_data/images/val/211.jpg: 320x480 1 Transformer_Tank, 1 Crossbar, 1 DDLO, 1 Side_Single_Pole, 8.3ms\n",
            "image 127/400 /content/custom_data/train_data/images/val/212.jpg: 320x480 1 Transformer_Tank, 1 Side_Single_Pole, 8.1ms\n",
            "image 128/400 /content/custom_data/train_data/images/val/213.jpg: 320x480 1 Transformer_Tank, 3 DDLOs, 1 Side_Single_Pole, 8.5ms\n",
            "image 129/400 /content/custom_data/train_data/images/val/214.jpg: 320x480 1 Transformer_Tank, 2 DDLOs, 1 Side_Single_Pole, 8.2ms\n",
            "image 130/400 /content/custom_data/train_data/images/val/215.jpg: 320x480 1 Transformer_Tank, 1 Front_Single_Pole, 1 Side_Single_Pole, 8.3ms\n",
            "image 131/400 /content/custom_data/train_data/images/val/216.jpg: 320x480 1 Transformer_Tank, 3 DDLOs, 1 Side_Single_Pole, 8.1ms\n",
            "image 132/400 /content/custom_data/train_data/images/val/217.jpg: 320x480 1 Transformer_Tank, 3 DDLOs, 8.0ms\n",
            "image 133/400 /content/custom_data/train_data/images/val/218.jpg: 320x480 1 Transformer_Tank, 1 Crossbar, 3 DDLOs, 1 Front_Double_Pole, 9.2ms\n",
            "image 134/400 /content/custom_data/train_data/images/val/219.jpg: 320x480 1 Transformer_Tank, 2 Crossbars, 2 DDLOs, 1 Disk_Insulator, 1 Side_Single_Pole, 17.2ms\n",
            "image 135/400 /content/custom_data/train_data/images/val/22.jpg: 320x480 1 Transformer_Tank, 2 Crossbars, 3 DDLOs, 1 Disk_Insulator, 1 Side_Single_Pole, 11.8ms\n",
            "image 136/400 /content/custom_data/train_data/images/val/220.jpg: 320x480 1 Transformer_Tank, 2 DDLOs, 1 Disk_Insulator, 1 Side_Single_Pole, 8.1ms\n",
            "image 137/400 /content/custom_data/train_data/images/val/221.jpg: 320x480 1 Transformer_Tank, 1 Crossbar, 2 DDLOs, 1 Front_Single_Pole, 8.1ms\n",
            "image 138/400 /content/custom_data/train_data/images/val/222.jpg: 320x480 1 Transformer_Tank, 2 DDLOs, 1 Side_Single_Pole, 8.6ms\n",
            "image 139/400 /content/custom_data/train_data/images/val/223.jpg: 320x480 1 Transformer_Tank, 3 DDLOs, 1 Side_Single_Pole, 8.0ms\n",
            "image 140/400 /content/custom_data/train_data/images/val/224.jpg: 320x480 1 Transformer_Tank, 1 Crossbar, 3 DDLOs, 1 Front_Single_Pole, 8.0ms\n",
            "image 141/400 /content/custom_data/train_data/images/val/225.jpg: 320x480 1 Transformer_Tank, 3 DDLOs, 1 Pin_Insulator, 1 Side_Single_Pole, 8.1ms\n",
            "image 142/400 /content/custom_data/train_data/images/val/226.jpg: 320x480 1 Transformer_Tank, 2 DDLOs, 1 Side_Single_Pole, 7.9ms\n",
            "image 143/400 /content/custom_data/train_data/images/val/227.jpg: 320x480 1 Transformer_Tank, 1 Side_Single_Pole, 8.2ms\n",
            "image 144/400 /content/custom_data/train_data/images/val/228.jpg: 320x480 1 Transformer_Tank, 2 DDLOs, 1 Side_Single_Pole, 8.0ms\n",
            "image 145/400 /content/custom_data/train_data/images/val/229.jpg: 320x480 1 Transformer_Tank, 3 DDLOs, 1 Disk_Insulator, 1 Side_Single_Pole, 9.2ms\n",
            "image 146/400 /content/custom_data/train_data/images/val/23.jpg: 320x480 1 Transformer_Tank, 2 Crossbars, 2 DDLOs, 2 Disk_Insulators, 1 Side_Single_Pole, 8.1ms\n",
            "image 147/400 /content/custom_data/train_data/images/val/230.jpg: 320x480 1 Transformer_Tank, 1 Crossbar, 2 DDLOs, 1 Side_Single_Pole, 8.1ms\n",
            "image 148/400 /content/custom_data/train_data/images/val/231.jpg: 320x480 1 Transformer_Tank, 1 Crossbar, 2 DDLOs, 1 Side_Single_Pole, 9.0ms\n",
            "image 149/400 /content/custom_data/train_data/images/val/232.jpg: 320x480 1 Transformer_Tank, 3 DDLOs, 1 Side_Single_Pole, 10.1ms\n",
            "image 150/400 /content/custom_data/train_data/images/val/233.jpg: 320x480 1 Transformer_Tank, 1 Front_Single_Pole, 8.2ms\n",
            "image 151/400 /content/custom_data/train_data/images/val/234.jpg: 320x480 1 Transformer_Tank, 1 Crossbar, 3 DDLOs, 1 Side_Single_Pole, 9.6ms\n",
            "image 152/400 /content/custom_data/train_data/images/val/235.jpg: 320x480 1 Transformer_Tank, 3 DDLOs, 1 Side_Single_Pole, 8.0ms\n",
            "image 153/400 /content/custom_data/train_data/images/val/236.jpg: 320x480 1 Transformer_Tank, 1 Front_Single_Pole, 8.1ms\n",
            "image 154/400 /content/custom_data/train_data/images/val/237.jpg: 320x480 1 Transformer_Tank, 1 Crossbar, 3 DDLOs, 1 Front_Single_Pole, 8.0ms\n",
            "image 155/400 /content/custom_data/train_data/images/val/238.jpg: 320x480 1 Transformer_Tank, 1 Crossbar, 2 DDLOs, 1 Side_Single_Pole, 8.0ms\n",
            "image 156/400 /content/custom_data/train_data/images/val/239.jpg: 320x480 1 Transformer_Tank, 1 Crossbar, 3 DDLOs, 1 Front_Single_Pole, 1 Side_Single_Pole, 8.3ms\n",
            "image 157/400 /content/custom_data/train_data/images/val/24.jpg: 320x480 1 Transformer_Tank, 2 Crossbars, 2 DDLOs, 1 Pin_Insulator, 3 Disk_Insulators, 1 Side_Single_Pole, 7.9ms\n",
            "image 158/400 /content/custom_data/train_data/images/val/240.jpg: 320x480 1 Transformer_Tank, 1 Crossbar, 2 DDLOs, 1 Side_Single_Pole, 8.0ms\n",
            "image 159/400 /content/custom_data/train_data/images/val/241.jpg: 320x480 1 Transformer_Tank, 2 DDLOs, 1 Side_Single_Pole, 8.4ms\n",
            "image 160/400 /content/custom_data/train_data/images/val/242.jpg: 320x480 1 Transformer_Tank, 1 DDLO, 1 Front_Single_Pole, 8.0ms\n",
            "image 161/400 /content/custom_data/train_data/images/val/243.jpg: 320x480 1 Transformer_Tank, 1 Crossbar, 2 DDLOs, 3 Pin_Insulators, 1 Side_Single_Pole, 8.0ms\n",
            "image 162/400 /content/custom_data/train_data/images/val/244.jpg: 320x480 2 Transformer_Tanks, 3 DDLOs, 1 Side_Single_Pole, 8.2ms\n",
            "image 163/400 /content/custom_data/train_data/images/val/245.jpg: 320x480 2 Transformer_Tanks, 2 Crossbars, 2 DDLOs, 1 Front_Single_Pole, 1 Side_Single_Pole, 13.8ms\n",
            "image 164/400 /content/custom_data/train_data/images/val/246.jpg: 320x480 1 Transformer_Tank, 1 Crossbar, 2 DDLOs, 3 Pin_Insulators, 1 Side_Single_Pole, 8.2ms\n",
            "image 165/400 /content/custom_data/train_data/images/val/247.jpg: 320x480 1 Transformer_Tank, 4 DDLOs, 1 Side_Single_Pole, 8.1ms\n",
            "image 166/400 /content/custom_data/train_data/images/val/248.jpg: 320x480 2 DDLOs, 8.6ms\n",
            "image 167/400 /content/custom_data/train_data/images/val/249.jpg: 320x480 1 Transformer_Tank, 8.3ms\n",
            "image 168/400 /content/custom_data/train_data/images/val/25.jpg: 320x480 1 Transformer_Tank, 2 DDLOs, 8.1ms\n",
            "image 169/400 /content/custom_data/train_data/images/val/250.jpg: 320x480 (no detections), 8.1ms\n",
            "image 170/400 /content/custom_data/train_data/images/val/251.jpg: 320x480 1 Transformer_Tank, 1 DDLO, 1 Disk_Insulator, 8.4ms\n",
            "image 171/400 /content/custom_data/train_data/images/val/252.jpg: 320x480 1 Disk_Insulator, 8.1ms\n",
            "image 172/400 /content/custom_data/train_data/images/val/253.jpg: 320x480 1 Disk_Insulator, 8.2ms\n",
            "image 173/400 /content/custom_data/train_data/images/val/254.jpg: 320x480 4 DDLOs, 8.0ms\n",
            "image 174/400 /content/custom_data/train_data/images/val/255.jpg: 320x480 (no detections), 13.7ms\n",
            "image 175/400 /content/custom_data/train_data/images/val/256.jpg: 320x480 (no detections), 11.6ms\n",
            "image 176/400 /content/custom_data/train_data/images/val/257.jpg: 320x480 (no detections), 8.4ms\n",
            "image 177/400 /content/custom_data/train_data/images/val/258.jpg: 320x480 1 Crossbar, 1 Disk_Insulator, 8.1ms\n",
            "image 178/400 /content/custom_data/train_data/images/val/259.jpg: 320x480 (no detections), 8.4ms\n",
            "image 179/400 /content/custom_data/train_data/images/val/26.jpg: 320x480 2 Transformer_Tanks, 2 DDLOs, 1 Pin_Insulator, 1 Side_Double_Pole, 8.0ms\n",
            "image 180/400 /content/custom_data/train_data/images/val/260.jpg: 320x480 (no detections), 8.2ms\n",
            "image 181/400 /content/custom_data/train_data/images/val/261.jpg: 320x480 (no detections), 8.5ms\n",
            "image 182/400 /content/custom_data/train_data/images/val/262.jpg: 320x480 (no detections), 7.9ms\n",
            "image 183/400 /content/custom_data/train_data/images/val/263.jpg: 320x480 1 Transformer_Tank, 2 Crossbars, 4 DDLOs, 3 Pin_Insulators, 1 Side_Single_Pole, 7.9ms\n",
            "image 184/400 /content/custom_data/train_data/images/val/264.jpg: 320x480 (no detections), 8.4ms\n",
            "image 185/400 /content/custom_data/train_data/images/val/265.jpg: 320x480 1 Transformer_Tank, 1 Crossbar, 4 DDLOs, 4 Pin_Insulators, 1 Side_Single_Pole, 8.1ms\n",
            "image 186/400 /content/custom_data/train_data/images/val/266.jpg: 320x480 1 Transformer_Tank, 2 Crossbars, 2 DDLOs, 3 Pin_Insulators, 1 Side_Single_Pole, 8.6ms\n",
            "image 187/400 /content/custom_data/train_data/images/val/267.jpg: 320x480 1 Transformer_Tank, 2 Crossbars, 3 DDLOs, 1 Pin_Insulator, 1 Front_Single_Pole, 8.0ms\n",
            "image 188/400 /content/custom_data/train_data/images/val/268.jpg: 320x480 1 Transformer_Tank, 2 Crossbars, 2 DDLOs, 6 Pin_Insulators, 1 Side_Single_Pole, 8.3ms\n",
            "image 189/400 /content/custom_data/train_data/images/val/269.jpg: 320x480 1 Transformer_Tank, 3 Crossbars, 3 DDLOs, 7 Pin_Insulators, 1 Side_Single_Pole, 10.6ms\n",
            "image 190/400 /content/custom_data/train_data/images/val/27.jpg: 320x480 1 Transformer_Tank, 2 Crossbars, 3 DDLOs, 2 Disk_Insulators, 1 Front_Double_Pole, 8.4ms\n",
            "image 191/400 /content/custom_data/train_data/images/val/270.jpg: 320x480 (no detections), 8.1ms\n",
            "image 192/400 /content/custom_data/train_data/images/val/271.jpg: 320x480 1 Transformer_Tank, 1 Crossbar, 3 DDLOs, 1 Pin_Insulator, 1 Disk_Insulator, 1 Side_Single_Pole, 10.4ms\n",
            "image 193/400 /content/custom_data/train_data/images/val/272.jpg: 320x480 1 Transformer_Tank, 2 Crossbars, 3 DDLOs, 1 Pin_Insulator, 2 Disk_Insulators, 1 Side_Single_Pole, 8.2ms\n",
            "image 194/400 /content/custom_data/train_data/images/val/273.jpg: 320x480 1 Transformer_Tank, 3 Crossbars, 3 DDLOs, 3 Disk_Insulators, 1 Front_Single_Pole, 8.0ms\n",
            "image 195/400 /content/custom_data/train_data/images/val/274.jpg: 320x480 1 Transformer_Tank, 2 Crossbars, 4 DDLOs, 2 Pin_Insulators, 1 Side_Single_Pole, 8.1ms\n",
            "image 196/400 /content/custom_data/train_data/images/val/275.jpg: 320x480 1 Transformer_Tank, 2 Crossbars, 4 DDLOs, 2 Pin_Insulators, 1 Side_Single_Pole, 8.0ms\n",
            "image 197/400 /content/custom_data/train_data/images/val/276.jpg: 320x480 1 Transformer_Tank, 2 Crossbars, 4 DDLOs, 3 Pin_Insulators, 1 Side_Single_Pole, 8.7ms\n",
            "image 198/400 /content/custom_data/train_data/images/val/277.jpg: 320x480 1 Transformer_Tank, 2 Crossbars, 3 DDLOs, 2 Pin_Insulators, 1 Side_Single_Pole, 8.1ms\n",
            "image 199/400 /content/custom_data/train_data/images/val/278.jpg: 320x480 1 Transformer_Tank, 1 Crossbar, 4 DDLOs, 3 Pin_Insulators, 1 Side_Single_Pole, 8.1ms\n",
            "image 200/400 /content/custom_data/train_data/images/val/279.jpg: 320x480 1 Transformer_Tank, 2 Crossbars, 2 DDLOs, 1 Pin_Insulator, 1 Front_Single_Pole, 8.2ms\n",
            "image 201/400 /content/custom_data/train_data/images/val/28.jpg: 320x480 1 Transformer_Tank, 2 Crossbars, 2 DDLOs, 1 Pin_Insulator, 3 Disk_Insulators, 1 Front_Double_Pole, 8.1ms\n",
            "image 202/400 /content/custom_data/train_data/images/val/280.jpg: 320x480 1 Transformer_Tank, 2 Crossbars, 1 DDLO, 3 Disk_Insulators, 1 Side_Single_Pole, 8.2ms\n",
            "image 203/400 /content/custom_data/train_data/images/val/281.jpg: 320x480 1 Transformer_Tank, 2 Crossbars, 3 DDLOs, 1 Pin_Insulator, 3 Disk_Insulators, 1 Side_Single_Pole, 9.4ms\n",
            "image 204/400 /content/custom_data/train_data/images/val/282.jpg: 320x480 1 Transformer_Tank, 3 Crossbars, 3 DDLOs, 1 Disk_Insulator, 1 Front_Single_Pole, 8.1ms\n",
            "image 205/400 /content/custom_data/train_data/images/val/283.jpg: 320x480 1 Transformer_Tank, 2 Crossbars, 3 DDLOs, 3 Pin_Insulators, 1 Side_Single_Pole, 10.3ms\n",
            "image 206/400 /content/custom_data/train_data/images/val/284.jpg: 320x480 1 Transformer_Tank, 2 Crossbars, 4 DDLOs, 3 Pin_Insulators, 1 Side_Single_Pole, 9.4ms\n",
            "image 207/400 /content/custom_data/train_data/images/val/285.jpg: 320x480 1 Transformer_Tank, 1 DDLO, 1 Pin_Insulator, 1 Front_Single_Pole, 8.3ms\n",
            "image 208/400 /content/custom_data/train_data/images/val/286.jpg: 320x480 1 Transformer_Tank, 1 Crossbar, 3 DDLOs, 3 Pin_Insulators, 1 Side_Single_Pole, 8.1ms\n",
            "image 209/400 /content/custom_data/train_data/images/val/287.jpg: 320x480 1 Transformer_Tank, 1 Crossbar, 4 DDLOs, 3 Pin_Insulators, 1 Side_Single_Pole, 8.0ms\n",
            "image 210/400 /content/custom_data/train_data/images/val/288.jpg: 320x480 1 Transformer_Tank, 3 Crossbars, 3 DDLOs, 1 Pin_Insulator, 1 Front_Single_Pole, 8.0ms\n",
            "image 211/400 /content/custom_data/train_data/images/val/289.jpg: 320x480 1 Transformer_Tank, 2 Crossbars, 2 DDLOs, 4 Pin_Insulators, 1 Front_Single_Pole, 8.1ms\n",
            "image 212/400 /content/custom_data/train_data/images/val/29.jpg: 320x480 1 Transformer_Tank, 3 DDLOs, 3 Disk_Insulators, 1 Side_Double_Pole, 8.4ms\n",
            "image 213/400 /content/custom_data/train_data/images/val/290.jpg: 320x480 1 Transformer_Tank, 2 Crossbars, 3 DDLOs, 3 Pin_Insulators, 1 Side_Single_Pole, 7.9ms\n",
            "image 214/400 /content/custom_data/train_data/images/val/291.jpg: 320x480 1 Transformer_Tank, 1 Crossbar, 4 DDLOs, 1 Disk_Insulator, 1 Front_Single_Pole, 8.0ms\n",
            "image 215/400 /content/custom_data/train_data/images/val/292.jpg: 320x480 2 Crossbars, 2 Disk_Insulators, 9.8ms\n",
            "image 216/400 /content/custom_data/train_data/images/val/293.jpg: 320x480 1 Transformer_Tank, 1 Crossbar, 3 DDLOs, 2 Disk_Insulators, 1 Side_Single_Pole, 7.9ms\n",
            "image 217/400 /content/custom_data/train_data/images/val/294.jpg: 320x480 1 Transformer_Tank, 2 Crossbars, 3 DDLOs, 3 Pin_Insulators, 1 Disk_Insulator, 1 Front_Single_Pole, 8.1ms\n",
            "image 218/400 /content/custom_data/train_data/images/val/295.jpg: 320x480 1 Transformer_Tank, 2 Crossbars, 2 DDLOs, 3 Pin_Insulators, 1 Side_Single_Pole, 8.2ms\n",
            "image 219/400 /content/custom_data/train_data/images/val/296.jpg: 320x480 1 Transformer_Tank, 2 Crossbars, 3 DDLOs, 3 Pin_Insulators, 1 Side_Single_Pole, 8.3ms\n",
            "image 220/400 /content/custom_data/train_data/images/val/297.jpg: 320x480 1 Transformer_Tank, 1 Pin_Insulator, 1 Disk_Insulator, 8.2ms\n",
            "image 221/400 /content/custom_data/train_data/images/val/298.jpg: 320x480 1 Transformer_Tank, 1 Crossbar, 3 DDLOs, 3 Disk_Insulators, 1 Side_Single_Pole, 8.2ms\n",
            "image 222/400 /content/custom_data/train_data/images/val/299.jpg: 320x480 1 Transformer_Tank, 3 Crossbars, 3 DDLOs, 2 Pin_Insulators, 1 Side_Single_Pole, 8.1ms\n",
            "image 223/400 /content/custom_data/train_data/images/val/3.jpg: 320x480 1 Transformer_Tank, 2 Crossbars, 2 DDLOs, 4 Pin_Insulators, 1 Side_Single_Pole, 8.1ms\n",
            "image 224/400 /content/custom_data/train_data/images/val/30.jpg: 320x480 1 Transformer_Tank, 2 Crossbars, 4 DDLOs, 2 Disk_Insulators, 1 Front_Double_Pole, 8.0ms\n",
            "image 225/400 /content/custom_data/train_data/images/val/300.jpg: 320x480 1 Transformer_Tank, 2 Crossbars, 4 DDLOs, 1 Pin_Insulator, 1 Disk_Insulator, 1 Side_Single_Pole, 8.1ms\n",
            "image 226/400 /content/custom_data/train_data/images/val/301.jpg: 320x480 1 Transformer_Tank, 2 Crossbars, 3 DDLOs, 2 Pin_Insulators, 6 Disk_Insulators, 1 Side_Single_Pole, 8.7ms\n",
            "image 227/400 /content/custom_data/train_data/images/val/302.jpg: 320x480 1 Transformer_Tank, 1 Crossbar, 4 DDLOs, 1 Pin_Insulator, 5 Disk_Insulators, 1 Side_Single_Pole, 8.0ms\n",
            "image 228/400 /content/custom_data/train_data/images/val/303.jpg: 320x480 1 Transformer_Tank, 2 Crossbars, 3 DDLOs, 2 Pin_Insulators, 2 Disk_Insulators, 1 Side_Single_Pole, 7.9ms\n",
            "image 229/400 /content/custom_data/train_data/images/val/304.jpg: 320x480 2 Transformer_Tanks, 2 Pin_Insulators, 1 Side_Single_Pole, 8.3ms\n",
            "image 230/400 /content/custom_data/train_data/images/val/305.jpg: 320x480 1 Transformer_Tank, 3 Crossbars, 2 DDLOs, 5 Pin_Insulators, 1 Side_Single_Pole, 8.1ms\n",
            "image 231/400 /content/custom_data/train_data/images/val/306.jpg: 320x480 1 Transformer_Tank, 1 Crossbar, 3 DDLOs, 1 Pin_Insulator, 1 Front_Single_Pole, 8.4ms\n",
            "image 232/400 /content/custom_data/train_data/images/val/307.jpg: 320x480 1 Transformer_Tank, 2 Crossbars, 4 DDLOs, 3 Pin_Insulators, 1 Side_Single_Pole, 8.1ms\n",
            "image 233/400 /content/custom_data/train_data/images/val/308.jpg: 320x480 1 Transformer_Tank, 3 Crossbars, 2 DDLOs, 2 Pin_Insulators, 4 Disk_Insulators, 1 Side_Single_Pole, 8.3ms\n",
            "image 234/400 /content/custom_data/train_data/images/val/309.jpg: 320x480 1 Transformer_Tank, 1 Crossbar, 1 DDLO, 1 Disk_Insulator, 1 Side_Single_Pole, 8.0ms\n",
            "image 235/400 /content/custom_data/train_data/images/val/31.jpg: 320x480 1 Transformer_Tank, 1 Crossbar, 3 DDLOs, 3 Disk_Insulators, 1 Side_Double_Pole, 8.0ms\n",
            "image 236/400 /content/custom_data/train_data/images/val/310.jpg: 320x480 1 Transformer_Tank, 2 Crossbars, 2 DDLOs, 1 Pin_Insulator, 1 Front_Single_Pole, 1 Front_Double_Pole, 8.1ms\n",
            "image 237/400 /content/custom_data/train_data/images/val/311.jpg: 320x480 1 Transformer_Tank, 1 Crossbar, 2 DDLOs, 1 Side_Single_Pole, 8.0ms\n",
            "image 238/400 /content/custom_data/train_data/images/val/312.jpg: 320x480 2 Transformer_Tanks, 1 Crossbar, 1 DDLO, 1 Disk_Insulator, 8.2ms\n",
            "image 239/400 /content/custom_data/train_data/images/val/313.jpg: 320x480 1 Transformer_Tank, 1 Side_Single_Pole, 8.2ms\n",
            "image 240/400 /content/custom_data/train_data/images/val/314.jpg: 320x480 2 Transformer_Tanks, 2 Crossbars, 5 DDLOs, 1 Side_Single_Pole, 8.1ms\n",
            "image 241/400 /content/custom_data/train_data/images/val/315.jpg: 320x480 2 Transformer_Tanks, 3 Crossbars, 3 DDLOs, 2 Disk_Insulators, 1 Front_Single_Pole, 8.4ms\n",
            "image 242/400 /content/custom_data/train_data/images/val/316.jpg: 320x480 1 Transformer_Tank, 1 Crossbar, 4 DDLOs, 1 Pin_Insulator, 1 Disk_Insulator, 1 Side_Single_Pole, 9.1ms\n",
            "image 243/400 /content/custom_data/train_data/images/val/317.jpg: 320x480 2 Transformer_Tanks, 8.0ms\n",
            "image 244/400 /content/custom_data/train_data/images/val/318.jpg: 320x480 1 Transformer_Tank, 3 DDLOs, 1 Pin_Insulator, 1 Side_Single_Pole, 8.0ms\n",
            "image 245/400 /content/custom_data/train_data/images/val/319.jpg: 320x480 2 Transformer_Tanks, 3 DDLOs, 1 Side_Single_Pole, 13.7ms\n",
            "image 246/400 /content/custom_data/train_data/images/val/32.jpg: 320x480 1 Transformer_Tank, 3 DDLOs, 1 Pin_Insulator, 1 Disk_Insulator, 8.5ms\n",
            "image 247/400 /content/custom_data/train_data/images/val/320.jpg: 320x480 1 Transformer_Tank, 3 DDLOs, 1 Side_Single_Pole, 7.9ms\n",
            "image 248/400 /content/custom_data/train_data/images/val/321.jpg: 320x480 1 Transformer_Tank, 2 Crossbars, 4 DDLOs, 2 Pin_Insulators, 1 Side_Single_Pole, 7.9ms\n",
            "image 249/400 /content/custom_data/train_data/images/val/322.jpg: 320x480 2 Transformer_Tanks, 2 Crossbars, 3 DDLOs, 1 Pin_Insulator, 1 Side_Single_Pole, 8.1ms\n",
            "image 250/400 /content/custom_data/train_data/images/val/323.jpg: 320x480 1 Transformer_Tank, 3 DDLOs, 1 Side_Single_Pole, 8.0ms\n",
            "image 251/400 /content/custom_data/train_data/images/val/324.jpg: 320x480 2 Transformer_Tanks, 2 Crossbars, 3 DDLOs, 2 Pin_Insulators, 1 Side_Single_Pole, 8.0ms\n",
            "image 252/400 /content/custom_data/train_data/images/val/325.jpg: 320x480 1 Transformer_Tank, 2 Crossbars, 3 DDLOs, 3 Pin_Insulators, 1 Side_Single_Pole, 8.1ms\n",
            "image 253/400 /content/custom_data/train_data/images/val/326.jpg: 320x480 1 Transformer_Tank, 3 DDLOs, 1 Pin_Insulator, 1 Disk_Insulator, 1 Side_Single_Pole, 1 Side_Double_Pole, 8.0ms\n",
            "image 254/400 /content/custom_data/train_data/images/val/327.jpg: 320x480 1 Transformer_Tank, 2 Crossbars, 3 DDLOs, 2 Pin_Insulators, 1 Side_Single_Pole, 10.8ms\n",
            "image 255/400 /content/custom_data/train_data/images/val/328.jpg: 320x480 1 Transformer_Tank, 1 Crossbar, 3 DDLOs, 1 Disk_Insulator, 1 Side_Single_Pole, 8.1ms\n",
            "image 256/400 /content/custom_data/train_data/images/val/329.jpg: 320x480 1 Transformer_Tank, 1 Crossbar, 2 DDLOs, 1 Disk_Insulator, 1 Side_Single_Pole, 8.1ms\n",
            "image 257/400 /content/custom_data/train_data/images/val/33.jpg: 320x480 1 Transformer_Tank, 2 Crossbars, 2 DDLOs, 3 Disk_Insulators, 1 Front_Single_Pole, 8.1ms\n",
            "image 258/400 /content/custom_data/train_data/images/val/330.jpg: 320x480 1 Transformer_Tank, 2 DDLOs, 1 Disk_Insulator, 1 Side_Single_Pole, 8.5ms\n",
            "image 259/400 /content/custom_data/train_data/images/val/331.jpg: 320x480 2 Transformer_Tanks, 2 Crossbars, 3 DDLOs, 1 Pin_Insulator, 3 Disk_Insulators, 1 Side_Single_Pole, 8.5ms\n",
            "image 260/400 /content/custom_data/train_data/images/val/332.jpg: 320x480 1 Transformer_Tank, 2 Crossbars, 2 DDLOs, 4 Pin_Insulators, 2 Disk_Insulators, 1 Side_Double_Pole, 8.8ms\n",
            "image 261/400 /content/custom_data/train_data/images/val/333.jpg: 320x480 1 Transformer_Tank, 2 DDLOs, 1 Disk_Insulator, 1 Front_Double_Pole, 8.1ms\n",
            "image 262/400 /content/custom_data/train_data/images/val/334.jpg: 320x480 1 Transformer_Tank, 1 Side_Double_Pole, 8.2ms\n",
            "image 263/400 /content/custom_data/train_data/images/val/335.jpg: 320x480 1 Transformer_Tank, 4 Crossbars, 3 DDLOs, 4 Pin_Insulators, 1 Side_Single_Pole, 8.0ms\n",
            "image 264/400 /content/custom_data/train_data/images/val/336.jpg: 320x480 1 Transformer_Tank, 3 Crossbars, 2 DDLOs, 5 Pin_Insulators, 1 Side_Single_Pole, 8.0ms\n",
            "image 265/400 /content/custom_data/train_data/images/val/337.jpg: 320x480 1 Transformer_Tank, 3 Crossbars, 4 DDLOs, 5 Pin_Insulators, 1 Side_Single_Pole, 7.9ms\n",
            "image 266/400 /content/custom_data/train_data/images/val/338.jpg: 320x480 1 Transformer_Tank, 2 Crossbars, 5 DDLOs, 1 Pin_Insulator, 2 Disk_Insulators, 1 Front_Double_Pole, 8.2ms\n",
            "image 267/400 /content/custom_data/train_data/images/val/339.jpg: 320x480 2 Transformer_Tanks, 3 Crossbars, 3 DDLOs, 2 Disk_Insulators, 1 Front_Double_Pole, 8.1ms\n",
            "image 268/400 /content/custom_data/train_data/images/val/34.jpg: 320x480 1 Transformer_Tank, 2 Crossbars, 2 DDLOs, 2 Disk_Insulators, 1 Side_Single_Pole, 8.1ms\n",
            "image 269/400 /content/custom_data/train_data/images/val/340.jpg: 320x480 1 Transformer_Tank, 1 Crossbar, 3 DDLOs, 1 Pin_Insulator, 2 Disk_Insulators, 1 Front_Double_Pole, 8.1ms\n",
            "image 270/400 /content/custom_data/train_data/images/val/341.jpg: 320x480 1 Transformer_Tank, 1 Crossbar, 2 Pin_Insulators, 8.2ms\n",
            "image 271/400 /content/custom_data/train_data/images/val/342.jpg: 320x480 1 Transformer_Tank, 2 Crossbars, 1 DDLO, 3 Pin_Insulators, 1 Side_Double_Pole, 8.0ms\n",
            "image 272/400 /content/custom_data/train_data/images/val/343.jpg: 320x480 1 Transformer_Tank, 2 Crossbars, 2 DDLOs, 3 Pin_Insulators, 1 Side_Single_Pole, 8.1ms\n",
            "image 273/400 /content/custom_data/train_data/images/val/344.jpg: 320x480 1 Transformer_Tank, 2 DDLOs, 10.0ms\n",
            "image 274/400 /content/custom_data/train_data/images/val/345.jpg: 320x480 1 Transformer_Tank, 3 DDLOs, 1 Side_Single_Pole, 11.1ms\n",
            "image 275/400 /content/custom_data/train_data/images/val/346.jpg: 320x480 1 Transformer_Tank, 2 DDLOs, 1 Pin_Insulator, 1 Side_Single_Pole, 8.1ms\n",
            "image 276/400 /content/custom_data/train_data/images/val/347.jpg: 320x480 1 Transformer_Tank, 4 Crossbars, 3 DDLOs, 1 Disk_Insulator, 1 Front_Double_Pole, 8.1ms\n",
            "image 277/400 /content/custom_data/train_data/images/val/348.jpg: 320x480 1 Transformer_Tank, 1 DDLO, 1 Side_Single_Pole, 7.9ms\n",
            "image 278/400 /content/custom_data/train_data/images/val/349.jpg: 320x480 1 Transformer_Tank, 1 Crossbar, 1 Front_Single_Pole, 8.0ms\n",
            "image 279/400 /content/custom_data/train_data/images/val/35.jpg: 320x480 1 Transformer_Tank, 2 DDLOs, 1 Side_Single_Pole, 8.1ms\n",
            "image 280/400 /content/custom_data/train_data/images/val/350.jpg: 320x480 2 Transformer_Tanks, 2 Crossbars, 3 DDLOs, 1 Pin_Insulator, 3 Disk_Insulators, 1 Front_Single_Pole, 8.3ms\n",
            "image 281/400 /content/custom_data/train_data/images/val/351.jpg: 320x480 1 Transformer_Tank, 1 Side_Single_Pole, 8.0ms\n",
            "image 282/400 /content/custom_data/train_data/images/val/352.jpg: 320x480 1 Transformer_Tank, 1 DDLO, 2 Pin_Insulators, 1 Disk_Insulator, 1 Side_Double_Pole, 8.3ms\n",
            "image 283/400 /content/custom_data/train_data/images/val/353.jpg: 320x480 1 Transformer_Tank, 5 Crossbars, 3 DDLOs, 1 Pin_Insulator, 3 Disk_Insulators, 1 Front_Double_Pole, 8.1ms\n",
            "image 284/400 /content/custom_data/train_data/images/val/354.jpg: 320x480 1 Transformer_Tank, 2 Crossbars, 4 DDLOs, 1 Pin_Insulator, 1 Disk_Insulator, 1 Side_Double_Pole, 10.1ms\n",
            "image 285/400 /content/custom_data/train_data/images/val/355.jpg: 320x480 1 Transformer_Tank, 3 DDLOs, 1 Disk_Insulator, 1 Side_Single_Pole, 8.0ms\n",
            "image 286/400 /content/custom_data/train_data/images/val/356.jpg: 320x480 1 Crossbar, 3 DDLOs, 8.1ms\n",
            "image 287/400 /content/custom_data/train_data/images/val/357.jpg: 320x480 1 Transformer_Tank, 2 Crossbars, 1 DDLO, 2 Disk_Insulators, 1 Side_Single_Pole, 8.1ms\n",
            "image 288/400 /content/custom_data/train_data/images/val/358.jpg: 320x480 1 Transformer_Tank, 2 Crossbars, 3 DDLOs, 1 Disk_Insulator, 1 Front_Single_Pole, 8.1ms\n",
            "image 289/400 /content/custom_data/train_data/images/val/359.jpg: 320x480 2 Crossbars, 4 DDLOs, 3 Disk_Insulators, 8.1ms\n",
            "image 290/400 /content/custom_data/train_data/images/val/36.jpg: 320x480 1 Transformer_Tank, 2 Crossbars, 3 DDLOs, 3 Pin_Insulators, 3 Disk_Insulators, 1 Front_Single_Pole, 8.1ms\n",
            "image 291/400 /content/custom_data/train_data/images/val/360.jpg: 320x480 1 Transformer_Tank, 2 Crossbars, 3 DDLOs, 3 Disk_Insulators, 1 Front_Single_Pole, 8.3ms\n",
            "image 292/400 /content/custom_data/train_data/images/val/361.jpg: 320x480 2 Transformer_Tanks, 8.0ms\n",
            "image 293/400 /content/custom_data/train_data/images/val/362.jpg: 320x480 1 Transformer_Tank, 8.1ms\n",
            "image 294/400 /content/custom_data/train_data/images/val/363.jpg: 320x480 1 Transformer_Tank, 1 Side_Single_Pole, 8.5ms\n",
            "image 295/400 /content/custom_data/train_data/images/val/364.jpg: 320x480 1 Transformer_Tank, 1 DDLO, 1 Side_Single_Pole, 8.0ms\n",
            "image 296/400 /content/custom_data/train_data/images/val/365.jpg: 320x480 1 Transformer_Tank, 2 Pin_Insulators, 1 Side_Single_Pole, 10.5ms\n",
            "image 297/400 /content/custom_data/train_data/images/val/366.jpg: 320x480 1 Crossbar, 2 DDLOs, 8.5ms\n",
            "image 298/400 /content/custom_data/train_data/images/val/367.jpg: 320x480 1 Transformer_Tank, 1 Crossbar, 2 DDLOs, 3 Pin_Insulators, 1 Side_Single_Pole, 8.2ms\n",
            "image 299/400 /content/custom_data/train_data/images/val/368.jpg: 320x480 1 Transformer_Tank, 2 Crossbars, 2 DDLOs, 3 Pin_Insulators, 1 Disk_Insulator, 1 Side_Single_Pole, 8.3ms\n",
            "image 300/400 /content/custom_data/train_data/images/val/369.jpg: 320x480 1 Transformer_Tank, 2 Crossbars, 3 DDLOs, 2 Disk_Insulators, 1 Side_Single_Pole, 8.1ms\n",
            "image 301/400 /content/custom_data/train_data/images/val/37.jpg: 320x480 1 Transformer_Tank, 1 Crossbar, 3 DDLOs, 1 Side_Single_Pole, 8.1ms\n",
            "image 302/400 /content/custom_data/train_data/images/val/370.jpg: 320x480 1 Transformer_Tank, 1 Crossbar, 2 DDLOs, 1 Front_Double_Pole, 8.3ms\n",
            "image 303/400 /content/custom_data/train_data/images/val/371.jpg: 320x480 1 Transformer_Tank, 2 Crossbars, 2 DDLOs, 1 Pin_Insulator, 1 Disk_Insulator, 2 Side_Double_Poles, 8.3ms\n",
            "image 304/400 /content/custom_data/train_data/images/val/372.jpg: 320x480 1 DDLO, 1 Pin_Insulator, 2 Disk_Insulators, 1 Side_Single_Pole, 1 Side_Double_Pole, 8.0ms\n",
            "image 305/400 /content/custom_data/train_data/images/val/373.jpg: 320x480 2 Transformer_Tanks, 8.0ms\n",
            "image 306/400 /content/custom_data/train_data/images/val/374.jpg: 320x480 4 DDLOs, 7.9ms\n",
            "image 307/400 /content/custom_data/train_data/images/val/375.jpg: 320x480 1 Transformer_Tank, 2 Crossbars, 2 DDLOs, 1 Disk_Insulator, 1 Front_Single_Pole, 8.0ms\n",
            "image 308/400 /content/custom_data/train_data/images/val/376.jpg: 320x480 1 Transformer_Tank, 3 DDLOs, 2 Disk_Insulators, 1 Side_Single_Pole, 8.0ms\n",
            "image 309/400 /content/custom_data/train_data/images/val/377.jpg: 320x480 1 Transformer_Tank, 1 Crossbar, 3 DDLOs, 3 Disk_Insulators, 1 Front_Single_Pole, 9.5ms\n",
            "image 310/400 /content/custom_data/train_data/images/val/378.jpg: 320x480 1 Transformer_Tank, 3 Crossbars, 3 DDLOs, 1 Side_Single_Pole, 8.1ms\n",
            "image 311/400 /content/custom_data/train_data/images/val/379.jpg: 320x480 1 Crossbar, 3 DDLOs, 1 Pin_Insulator, 1 Front_Single_Pole, 8.2ms\n",
            "image 312/400 /content/custom_data/train_data/images/val/38.jpg: 320x480 1 Transformer_Tank, 1 Crossbar, 2 DDLOs, 1 Front_Single_Pole, 8.3ms\n",
            "image 313/400 /content/custom_data/train_data/images/val/380.jpg: 320x480 1 Transformer_Tank, 8.3ms\n",
            "image 314/400 /content/custom_data/train_data/images/val/381.jpg: 320x480 1 Transformer_Tank, 8.2ms\n",
            "image 315/400 /content/custom_data/train_data/images/val/382.jpg: 320x480 1 Transformer_Tank, 1 Crossbar, 3 DDLOs, 3 Pin_Insulators, 1 Front_Single_Pole, 8.1ms\n",
            "image 316/400 /content/custom_data/train_data/images/val/383.jpg: 320x480 1 Transformer_Tank, 2 Crossbars, 5 DDLOs, 3 Pin_Insulators, 1 Side_Single_Pole, 8.3ms\n",
            "image 317/400 /content/custom_data/train_data/images/val/384.jpg: 320x480 1 Transformer_Tank, 1 Crossbar, 1 DDLO, 1 Front_Double_Pole, 15.9ms\n",
            "image 318/400 /content/custom_data/train_data/images/val/385.jpg: 320x480 1 Transformer_Tank, 3 DDLOs, 1 Side_Double_Pole, 9.3ms\n",
            "image 319/400 /content/custom_data/train_data/images/val/386.jpg: 320x480 1 Transformer_Tank, 2 DDLOs, 1 Disk_Insulator, 1 Side_Double_Pole, 9.2ms\n",
            "image 320/400 /content/custom_data/train_data/images/val/387.jpg: 320x480 1 Transformer_Tank, 2 DDLOs, 2 Pin_Insulators, 1 Front_Single_Pole, 8.7ms\n",
            "image 321/400 /content/custom_data/train_data/images/val/388.jpg: 320x480 1 Transformer_Tank, 2 DDLOs, 1 Pin_Insulator, 1 Side_Single_Pole, 8.7ms\n",
            "image 322/400 /content/custom_data/train_data/images/val/389.jpg: 320x480 1 Transformer_Tank, 1 Crossbar, 3 DDLOs, 1 Pin_Insulator, 1 Front_Single_Pole, 8.7ms\n",
            "image 323/400 /content/custom_data/train_data/images/val/39.jpg: 320x480 1 Transformer_Tank, 2 Crossbars, 3 DDLOs, 1 Pin_Insulator, 1 Front_Double_Pole, 8.9ms\n",
            "image 324/400 /content/custom_data/train_data/images/val/390.jpg: 320x480 1 Transformer_Tank, 3 DDLOs, 1 Disk_Insulator, 1 Side_Single_Pole, 8.6ms\n",
            "image 325/400 /content/custom_data/train_data/images/val/391.jpg: 320x480 1 Transformer_Tank, 2 Crossbars, 1 DDLO, 2 Disk_Insulators, 1 Side_Single_Pole, 9.2ms\n",
            "image 326/400 /content/custom_data/train_data/images/val/392.jpg: 320x480 1 Transformer_Tank, 1 DDLO, 1 Front_Single_Pole, 8.4ms\n",
            "image 327/400 /content/custom_data/train_data/images/val/393.jpg: 320x480 1 Transformer_Tank, 8.2ms\n",
            "image 328/400 /content/custom_data/train_data/images/val/394.jpg: 320x480 1 Transformer_Tank, 1 DDLO, 8.3ms\n",
            "image 329/400 /content/custom_data/train_data/images/val/395.jpg: 320x480 1 Transformer_Tank, 1 Front_Single_Pole, 8.1ms\n",
            "image 330/400 /content/custom_data/train_data/images/val/396.jpg: 320x480 1 Transformer_Tank, 1 Crossbar, 4 DDLOs, 5 Pin_Insulators, 1 Disk_Insulator, 1 Side_Single_Pole, 9.4ms\n",
            "image 331/400 /content/custom_data/train_data/images/val/397.jpg: 320x480 1 Transformer_Tank, 1 Crossbar, 4 DDLOs, 3 Pin_Insulators, 1 Side_Single_Pole, 12.0ms\n",
            "image 332/400 /content/custom_data/train_data/images/val/398.jpg: 320x480 2 Transformer_Tanks, 9.9ms\n",
            "image 333/400 /content/custom_data/train_data/images/val/399.jpg: 320x480 1 Crossbar, 3 DDLOs, 2 Disk_Insulators, 8.5ms\n",
            "image 334/400 /content/custom_data/train_data/images/val/4.jpg: 320x480 1 Transformer_Tank, 3 Crossbars, 3 DDLOs, 5 Pin_Insulators, 1 Side_Single_Pole, 8.3ms\n",
            "image 335/400 /content/custom_data/train_data/images/val/40.jpg: 320x480 1 Transformer_Tank, 1 Crossbar, 3 DDLOs, 5 Pin_Insulators, 1 Disk_Insulator, 1 Front_Double_Pole, 8.3ms\n",
            "image 336/400 /content/custom_data/train_data/images/val/400.jpg: 320x480 1 Transformer_Tank, 8.1ms\n",
            "image 337/400 /content/custom_data/train_data/images/val/41.jpg: 320x480 1 Transformer_Tank, 2 Crossbars, 3 DDLOs, 2 Pin_Insulators, 1 Front_Double_Pole, 8.4ms\n",
            "image 338/400 /content/custom_data/train_data/images/val/42.jpg: 320x480 1 Transformer_Tank, 1 Crossbar, 4 DDLOs, 1 Front_Double_Pole, 8.5ms\n",
            "image 339/400 /content/custom_data/train_data/images/val/43.jpg: 320x480 1 Transformer_Tank, 8.3ms\n",
            "image 340/400 /content/custom_data/train_data/images/val/44.jpg: 320x480 1 Transformer_Tank, 2 DDLOs, 2 Pin_Insulators, 8.1ms\n",
            "image 341/400 /content/custom_data/train_data/images/val/45.jpg: 320x480 1 Transformer_Tank, 3 Crossbars, 3 DDLOs, 1 Disk_Insulator, 1 Front_Double_Pole, 9.9ms\n",
            "image 342/400 /content/custom_data/train_data/images/val/46.jpg: 320x480 1 Transformer_Tank, 3 DDLOs, 1 Front_Double_Pole, 8.3ms\n",
            "image 343/400 /content/custom_data/train_data/images/val/47.jpg: 320x480 1 Transformer_Tank, 2 Crossbars, 1 DDLO, 1 Pin_Insulator, 3 Disk_Insulators, 1 Side_Double_Pole, 8.1ms\n",
            "image 344/400 /content/custom_data/train_data/images/val/48.jpg: 320x480 1 Transformer_Tank, 2 Crossbars, 3 DDLOs, 1 Front_Single_Pole, 8.2ms\n",
            "image 345/400 /content/custom_data/train_data/images/val/49.jpg: 320x480 3 Crossbars, 5 DDLOs, 3 Pin_Insulators, 8.4ms\n",
            "image 346/400 /content/custom_data/train_data/images/val/5.jpg: 320x480 3 DDLOs, 1 Side_Single_Pole, 8.2ms\n",
            "image 347/400 /content/custom_data/train_data/images/val/50.jpg: 320x480 1 Transformer_Tank, 2 DDLOs, 2 Pin_Insulators, 1 Disk_Insulator, 1 Side_Single_Pole, 8.2ms\n",
            "image 348/400 /content/custom_data/train_data/images/val/51.jpg: 320x480 1 Transformer_Tank, 1 Pin_Insulator, 1 Side_Single_Pole, 8.2ms\n",
            "image 349/400 /content/custom_data/train_data/images/val/52.jpg: 320x480 1 Transformer_Tank, 3 DDLOs, 1 Side_Single_Pole, 8.5ms\n",
            "image 350/400 /content/custom_data/train_data/images/val/53.jpg: 320x480 1 Transformer_Tank, 1 Crossbar, 2 DDLOs, 4 Pin_Insulators, 8.3ms\n",
            "image 351/400 /content/custom_data/train_data/images/val/54.jpg: 320x480 1 Transformer_Tank, 3 DDLOs, 1 Side_Single_Pole, 8.4ms\n",
            "image 352/400 /content/custom_data/train_data/images/val/55.jpg: 320x480 2 Transformer_Tanks, 2 Crossbars, 2 DDLOs, 5 Pin_Insulators, 1 Side_Single_Pole, 8.2ms\n",
            "image 353/400 /content/custom_data/train_data/images/val/56.jpg: 320x480 1 Transformer_Tank, 2 DDLOs, 1 Pin_Insulator, 10.4ms\n",
            "image 354/400 /content/custom_data/train_data/images/val/57.jpg: 320x480 1 Transformer_Tank, 2 DDLOs, 3 Pin_Insulators, 1 Side_Single_Pole, 8.2ms\n",
            "image 355/400 /content/custom_data/train_data/images/val/58.jpg: 320x480 1 Transformer_Tank, 2 Crossbars, 3 DDLOs, 3 Pin_Insulators, 1 Side_Single_Pole, 8.5ms\n",
            "image 356/400 /content/custom_data/train_data/images/val/59.jpg: 320x480 1 Transformer_Tank, 1 Crossbar, 2 DDLOs, 1 Front_Single_Pole, 8.4ms\n",
            "image 357/400 /content/custom_data/train_data/images/val/6.jpg: 320x480 1 Transformer_Tank, 2 Crossbars, 3 DDLOs, 4 Pin_Insulators, 1 Side_Single_Pole, 8.5ms\n",
            "image 358/400 /content/custom_data/train_data/images/val/60.jpg: 320x480 1 Transformer_Tank, 1 Crossbar, 3 DDLOs, 3 Pin_Insulators, 1 Side_Single_Pole, 8.9ms\n",
            "image 359/400 /content/custom_data/train_data/images/val/61.jpg: 320x480 3 Transformer_Tanks, 3 DDLOs, 3 Pin_Insulators, 1 Side_Single_Pole, 8.3ms\n",
            "image 360/400 /content/custom_data/train_data/images/val/62.jpg: 320x480 2 Crossbars, 4 DDLOs, 2 Pin_Insulators, 1 Side_Single_Pole, 8.2ms\n",
            "image 361/400 /content/custom_data/train_data/images/val/63.jpg: 320x480 1 Transformer_Tank, 3 DDLOs, 3 Disk_Insulators, 1 Front_Single_Pole, 1 Side_Single_Pole, 8.1ms\n",
            "image 362/400 /content/custom_data/train_data/images/val/64.jpg: 320x480 1 Transformer_Tank, 1 Crossbar, 3 DDLOs, 3 Disk_Insulators, 1 Side_Single_Pole, 8.2ms\n",
            "image 363/400 /content/custom_data/train_data/images/val/65.jpg: 320x480 1 Transformer_Tank, 2 Crossbars, 3 DDLOs, 2 Pin_Insulators, 1 Front_Single_Pole, 8.3ms\n",
            "image 364/400 /content/custom_data/train_data/images/val/66.jpg: 320x480 1 Transformer_Tank, 1 Crossbar, 3 DDLOs, 1 Disk_Insulator, 1 Side_Single_Pole, 8.3ms\n",
            "image 365/400 /content/custom_data/train_data/images/val/67.jpg: 320x480 1 Transformer_Tank, 2 Crossbars, 3 DDLOs, 3 Disk_Insulators, 1 Side_Single_Pole, 8.6ms\n",
            "image 366/400 /content/custom_data/train_data/images/val/68.jpg: 320x480 1 Transformer_Tank, 3 Crossbars, 3 DDLOs, 3 Pin_Insulators, 1 Disk_Insulator, 1 Front_Single_Pole, 8.2ms\n",
            "image 367/400 /content/custom_data/train_data/images/val/69.jpg: 320x480 1 Transformer_Tank, 2 Crossbars, 2 DDLOs, 1 Disk_Insulator, 1 Side_Single_Pole, 8.2ms\n",
            "image 368/400 /content/custom_data/train_data/images/val/7.jpg: 320x480 1 Transformer_Tank, 2 Crossbars, 3 DDLOs, 4 Pin_Insulators, 5 Disk_Insulators, 1 Side_Single_Pole, 8.1ms\n",
            "image 369/400 /content/custom_data/train_data/images/val/70.jpg: 320x480 2 Transformer_Tanks, 1 Crossbar, 3 DDLOs, 1 Disk_Insulator, 1 Side_Single_Pole, 8.1ms\n",
            "image 370/400 /content/custom_data/train_data/images/val/71.jpg: 320x480 2 DDLOs, 2 Front_Double_Poles, 8.2ms\n",
            "image 371/400 /content/custom_data/train_data/images/val/72.jpg: 320x480 1 Transformer_Tank, 4 DDLOs, 1 Side_Single_Pole, 8.1ms\n",
            "image 372/400 /content/custom_data/train_data/images/val/73.jpg: 320x480 1 Transformer_Tank, 2 Crossbars, 3 DDLOs, 3 Pin_Insulators, 1 Side_Single_Pole, 8.4ms\n",
            "image 373/400 /content/custom_data/train_data/images/val/74.jpg: 320x480 1 Transformer_Tank, 2 Crossbars, 3 DDLOs, 1 Pin_Insulator, 1 Side_Single_Pole, 8.3ms\n",
            "image 374/400 /content/custom_data/train_data/images/val/75.jpg: 320x480 1 Transformer_Tank, 2 Crossbars, 4 DDLOs, 3 Disk_Insulators, 1 Side_Single_Pole, 8.5ms\n",
            "image 375/400 /content/custom_data/train_data/images/val/76.jpg: 320x480 1 Transformer_Tank, 3 Crossbars, 3 DDLOs, 3 Disk_Insulators, 1 Front_Single_Pole, 8.2ms\n",
            "image 376/400 /content/custom_data/train_data/images/val/77.jpg: 320x480 1 Transformer_Tank, 2 Crossbars, 3 DDLOs, 3 Disk_Insulators, 8.3ms\n",
            "image 377/400 /content/custom_data/train_data/images/val/78.jpg: 320x480 1 Transformer_Tank, 1 Crossbar, 3 DDLOs, 3 Pin_Insulators, 1 Side_Single_Pole, 8.7ms\n",
            "image 378/400 /content/custom_data/train_data/images/val/79.jpg: 320x480 1 Transformer_Tank, 2 Crossbars, 3 DDLOs, 1 Pin_Insulator, 1 Side_Single_Pole, 8.2ms\n",
            "image 379/400 /content/custom_data/train_data/images/val/8.jpg: 320x480 1 Transformer_Tank, 1 DDLO, 10.6ms\n",
            "image 380/400 /content/custom_data/train_data/images/val/80.jpg: 320x480 1 Transformer_Tank, 2 Crossbars, 3 DDLOs, 1 Front_Single_Pole, 8.3ms\n",
            "image 381/400 /content/custom_data/train_data/images/val/81.jpg: 320x480 1 Transformer_Tank, 2 Crossbars, 3 DDLOs, 3 Pin_Insulators, 1 Side_Single_Pole, 8.4ms\n",
            "image 382/400 /content/custom_data/train_data/images/val/82.jpg: 320x480 1 Transformer_Tank, 2 Crossbars, 4 DDLOs, 3 Pin_Insulators, 1 Side_Single_Pole, 8.3ms\n",
            "image 383/400 /content/custom_data/train_data/images/val/83.jpg: 320x480 1 Transformer_Tank, 1 Crossbar, 2 DDLOs, 1 Front_Single_Pole, 8.6ms\n",
            "image 384/400 /content/custom_data/train_data/images/val/84.jpg: 320x480 1 Transformer_Tank, 3 DDLOs, 2 Disk_Insulators, 1 Side_Single_Pole, 8.6ms\n",
            "image 385/400 /content/custom_data/train_data/images/val/85.jpg: 320x480 1 Transformer_Tank, 1 Crossbar, 5 DDLOs, 3 Disk_Insulators, 1 Side_Single_Pole, 8.3ms\n",
            "image 386/400 /content/custom_data/train_data/images/val/86.jpg: 320x480 1 Transformer_Tank, 1 Crossbar, 3 DDLOs, 1 Disk_Insulator, 1 Front_Single_Pole, 13.6ms\n",
            "image 387/400 /content/custom_data/train_data/images/val/87.jpg: 320x480 1 Transformer_Tank, 2 DDLOs, 4 Pin_Insulators, 1 Side_Single_Pole, 11.8ms\n",
            "image 388/400 /content/custom_data/train_data/images/val/88.jpg: 320x480 1 Transformer_Tank, 4 DDLOs, 3 Pin_Insulators, 1 Side_Single_Pole, 8.9ms\n",
            "image 389/400 /content/custom_data/train_data/images/val/89.jpg: 320x480 1 Transformer_Tank, 1 Crossbar, 3 DDLOs, 2 Pin_Insulators, 1 Front_Single_Pole, 9.0ms\n",
            "image 390/400 /content/custom_data/train_data/images/val/9.jpg: 320x480 1 Transformer_Tank, 1 Crossbar, 2 DDLOs, 3 Pin_Insulators, 8 Disk_Insulators, 1 Side_Single_Pole, 8.4ms\n",
            "image 391/400 /content/custom_data/train_data/images/val/90.jpg: 320x480 1 Transformer_Tank, 2 Crossbars, 3 DDLOs, 3 Pin_Insulators, 1 Side_Single_Pole, 8.6ms\n",
            "image 392/400 /content/custom_data/train_data/images/val/91.jpg: 320x480 1 Transformer_Tank, 2 Crossbars, 3 DDLOs, 4 Pin_Insulators, 1 Side_Single_Pole, 8.4ms\n",
            "image 393/400 /content/custom_data/train_data/images/val/92.jpg: 320x480 1 Transformer_Tank, 1 Crossbar, 3 DDLOs, 1 Pin_Insulator, 1 Front_Single_Pole, 8.4ms\n",
            "image 394/400 /content/custom_data/train_data/images/val/93.jpg: 320x480 1 Transformer_Tank, 1 Crossbar, 3 DDLOs, 3 Pin_Insulators, 1 Side_Single_Pole, 8.4ms\n",
            "image 395/400 /content/custom_data/train_data/images/val/94.jpg: 320x480 1 Transformer_Tank, 2 Crossbars, 3 DDLOs, 3 Pin_Insulators, 4 Disk_Insulators, 1 Side_Single_Pole, 9.0ms\n",
            "image 396/400 /content/custom_data/train_data/images/val/95.jpg: 320x480 1 Transformer_Tank, 1 DDLO, 1 Pin_Insulator, 1 Disk_Insulator, 1 Front_Single_Pole, 2 Side_Single_Poles, 8.6ms\n",
            "image 397/400 /content/custom_data/train_data/images/val/96.jpg: 320x480 1 Transformer_Tank, 3 Crossbars, 3 DDLOs, 1 Pin_Insulator, 9 Disk_Insulators, 1 Side_Single_Pole, 8.4ms\n",
            "image 398/400 /content/custom_data/train_data/images/val/97.jpg: 320x480 1 Transformer_Tank, 2 Crossbars, 2 Disk_Insulators, 1 Front_Single_Pole, 11.6ms\n",
            "image 399/400 /content/custom_data/train_data/images/val/98.jpg: 320x480 1 Transformer_Tank, 1 Crossbar, 3 DDLOs, 4 Pin_Insulators, 1 Side_Single_Pole, 11.0ms\n",
            "image 400/400 /content/custom_data/train_data/images/val/99.jpg: 320x480 1 Transformer_Tank, 1 Crossbar, 2 DDLOs, 3 Pin_Insulators, 1 Side_Single_Pole, 15.9ms\n",
            "Speed: 1.1ms preprocess, 8.7ms inference, 1.5ms postprocess per image at shape (1, 3, 320, 480)\n",
            "Results saved to \u001b[1mruns/detect/predict\u001b[0m\n",
            "💡 Learn more at https://docs.ultralytics.com/modes/predict\n"
          ]
        }
      ],
      "source": [
        "!yolo detect predict model=runs/detect/train2/weights/best.pt source=custom_data/train_data/images/val save=True"
      ]
    },
    {
      "cell_type": "code",
      "execution_count": null,
      "metadata": {
        "id": "zEEObQqoiGrs"
      },
      "outputs": [],
      "source": [
        "import glob\n",
        "from IPython.display import Image, display\n",
        "for image_path in glob.glob(f'/content/runs/detect/predict/*.jpg')[:10]:\n",
        "  display(Image(filename=image_path, height=400))\n",
        "  print('\\n')\n"
      ]
    },
    {
      "cell_type": "markdown",
      "source": [
        "The model should draw a box around each object of interest in each image. If it isn't doing a good job of detecting objects, here are a few tips:\n",
        "\n",
        "1. Double-check your dataset to make sure there are no labeling errors or conflicting examples.\n",
        "2. Increase the number of epochs used for training.\n",
        "3. Use a larger model size (e.g. `yolo11l.pt`).\n",
        "4. Add more images to the training dataset. See my [dataset video](https://www.youtube.com/watch?v=v0ssiOY6cfg) for tips on how to capture good training images and improve accuracy.\n",
        "\n",
        "You can also run the model on video files or other images images by uploading them to this notebook and using the above `!yolo detect predict` command, where `source` points to the location of the video file, image, or folder of images. The results will be saved in `runs/detect/predict`.\n",
        "\n",
        "Drawing boxes on images is great, but it isn't very useful in itself. It's also not very helpful to just run this models inside a Colab notebook: it's easier if we can just run it on a local computer. Continue to the next section to see how to download your newly trained model and run it on a local device."
      ],
      "metadata": {
        "id": "EGiQw_gWbSBa"
      }
    },
    {
      "cell_type": "markdown",
      "metadata": {
        "id": "W7yrFRViVczX"
      },
      "source": [
        "#7.&nbsp;Deploy Model"
      ]
    },
    {
      "cell_type": "markdown",
      "source": [
        "Now that your custom model has been trained, it's ready to be downloaded and deployed in an application! YOLO models can run on a wide variety of hardware, including PCs, embedded systems, and phones. Ultralytics makes it easy to convert the YOLO models to various formats (`tflite`, `onnx`, etc.) and deploy them in a variety of environments.\n",
        "\n",
        "This section shows how to download the model and provides links to instructions for deploying it on your PC and edge devices like the Raspberry Pi."
      ],
      "metadata": {
        "id": "FEtybPmB_ERi"
      }
    },
    {
      "cell_type": "markdown",
      "source": [
        "## 7.1 Download YOLO Model\n",
        "\n",
        "First, zip and download the trained model by running the code blocks below.\n",
        "\n",
        "The code creates a folder named `my_model`, moves the model weights into it, and renames them from `best.pt` to `my_model.pt`. It also adds the training results in case you want to reference them later. It then zips the folder as `my_model.zip`."
      ],
      "metadata": {
        "id": "IcoBAeHXa86W"
      }
    },
    {
      "cell_type": "code",
      "source": [
        "# Create \"my_model\" folder to store model weights and train results\n",
        "!mkdir /content/my_model\n",
        "!cp /content/runs/detect/train/weights/best.pt /content/my_model/my_model.pt\n",
        "!cp -r /content/runs/detect/train /content/my_model\n",
        "\n",
        "# Zip into \"my_model.zip\"\n",
        "%cd my_model\n",
        "!zip /content/my_model.zip my_model.pt\n",
        "!zip -r /content/my_model.zip train\n",
        "%cd /content"
      ],
      "metadata": {
        "id": "qcBdnOA9v85S"
      },
      "execution_count": null,
      "outputs": []
    },
    {
      "cell_type": "code",
      "execution_count": null,
      "metadata": {
        "id": "43ypwonynLVu"
      },
      "outputs": [],
      "source": [
        "# This takes forever for some reason, you can also just download the model from the sidebar\n",
        "from google.colab import files\n",
        "\n",
        "files.download('/content/my_model.zip')"
      ]
    },
    {
      "cell_type": "markdown",
      "source": [
        "## 7.2 Deploy YOLO Model on Local Devices\n",
        "\n",
        "Next, we'll take our downloaded model and run it on a local device. This section provides instructions showing how to deploy YOLO models on various devices.\n",
        "\n",
        "I wrote a basic Python script, `yolo_detect.py`, that shows how to load a model, run inference on an image source, parse the inference results, and display boxes around each detected class in the image. The [script](https://github.com/EdjeElectronics/Train-and-Deploy-YOLO-Models/blob/main/yolo_detect.py) gives an example of how to work with Ultralytics YOLO models in Python, and it can be used as a starting point for more advanced applications."
      ],
      "metadata": {
        "id": "YL06c6pb_UqZ"
      }
    },
    {
      "cell_type": "markdown",
      "source": [
        "### 7.2.1 Deploy on PC (Windows, Linux, or macOS)\n",
        "\n",
        "The easiest way to run Ultralytics models on a PC is using Anaconda. Anaconda sets up a virtual Python environment and allows you to easily install Ultralytics and PyTorch. It automatically installs CUDA and cuDNN, which allows you to speed up model inference with your NVIDIA GPU.\n",
        "\n",
        "> **NOTE:** My YouTube video (link to be added) shows how to deploy your model on a PC. It walks through the following steps, so watch the video if you prefer having visual instructions.\n",
        "\n",
        "**1. Download and Install Anaconda**\n",
        "\n",
        "Go to the Anaconda download page at https://anaconda.com/download, click the “skip registration” button, and then download the package for your OS. When it's finished downloading, run the installer and click through the installation steps. You can use the default options for installation.\n",
        "\n",
        "**2. Set up virtual environment**\n",
        "\n",
        "Once it's installed, run Anaconda Prompt from the Start Bar. (If you're on macOS or Linux, just open a command terminal).\n",
        "\n",
        "Issue the following commands to create a new Python environment and activate it:\n",
        "\n",
        "```\n",
        "conda create --name yolo-env1 python=3.12 -y\n",
        "conda activate yolo-env1\n",
        "```\n",
        "\n",
        "Install Ultralytics (which also installs import libraries like OpenCV-Python, Numpy, and PyTorch) by issuing the following command:\n",
        "\n",
        "```\n",
        "pip install ultralytics\n",
        "```\n",
        "\n",
        "If you have an NVIDIA GPU, you can install the GPU-enabled version of PyTorch by issuing the following command:\n",
        "\n",
        "```\n",
        "pip install --upgrade torch torchvision torchaudio --index-url https://download.pytorch.org/whl/cu124\n",
        "```\n",
        "\n",
        "**3. Extract downloaded model**\n",
        "Take the `my_model.zip` file you downloaded in Step 7.1 and unzip it to a folder on your PC. In the Anaconda Prompt terminal, move into the unzipped folder using:\n",
        "\n",
        "```\n",
        "cd path/to/folder\n",
        "```\n",
        "\n",
        "**4. Download and run yolo_detect.py**\n",
        "\n",
        "Download the `yolo_detect.py` script into the `my_model` folder using:\n",
        "\n",
        "```\n",
        "curl -o yolo_detect.py https://raw.githubusercontent.com/EdjeElectronics/Train-and-Deploy-YOLO-Models/refs/heads/main/yolo_detect.py\n",
        "```\n",
        "\n",
        "Alright! We're ready to run the script. To run inference with a yolov8s model on a USB camera at 1280x720 resolution, issue:\n",
        "\n",
        "```\n",
        "python yolo_detect.py --model my_model.pt --source usb0 --resolution 1280x720\n",
        "```\n",
        "\n",
        "A window will appear showing a live feed from your webcam with boxes drawn around detected objects in each frame.\n",
        "\n",
        "You can also run the model on an video file, image, or folder of images. To see a full list of arguments for `yolo_detect.py`, issue `python yolo_detect.py --help` or see the [README file](https://github.com/EdjeElectronics/Train-and-Deploy-YOLO-Models/blob/main/README.md).\n",
        "\n",
        "\n"
      ],
      "metadata": {
        "id": "gzaJQ2sGEPhP"
      }
    },
    {
      "cell_type": "markdown",
      "source": [
        "### 7.2.2 Deploy on Raspberry Pi\n",
        "\n",
        "Keep an eye out for an article showing how to convert YOLO models to NCNN format and run them on the Raspberry Pi!"
      ],
      "metadata": {
        "id": "GelkpRLPEYmJ"
      }
    },
    {
      "cell_type": "markdown",
      "source": [
        "# 8.&nbsp;Conclusion"
      ],
      "metadata": {
        "id": "y8fOJ4g8Q5x0"
      }
    },
    {
      "cell_type": "markdown",
      "source": [
        "Congratulations! You've successfully trained and deployed a YOLO object detection model. 😀\n",
        "\n",
        "Next, you can extend your application beyond just drawing boxes and counting objects. Add functionality like logging the number of objects detected over time or taking a picture when certain objects are detected. Check out some example applications at our GitHub repository: https://github.com/EdjeElectronics/Train-and-Deploy-YOLO-Models\n",
        "\n",
        "Thanks for working through this notebook, and good luck with your projects!"
      ],
      "metadata": {
        "id": "DEZGuG1-Peg5"
      }
    },
    {
      "cell_type": "markdown",
      "source": [
        "# Appendix: Common Errors"
      ],
      "metadata": {
        "id": "fXeDs6SaQBRy"
      }
    },
    {
      "cell_type": "markdown",
      "source": [
        "If you run into any errors working through this notebook, please do the following:\n",
        "\n",
        "\n",
        "- Double-check that the dataset files are set up in the correct folder structure\n",
        "- Make sure there are no typos or errors in your labelmap file\n",
        "- Google search the error to look for solutions\n",
        "\n",
        "If none of those help, please submit an [Issue](https://github.com/EdjeElectronics/Train-and-Deploy-YOLO-Models/issues) on the GitHub page. In this section, I will add resolutions to common errors as they come up."
      ],
      "metadata": {
        "id": "Q19ENCHRQOCH"
      }
    }
  ],
  "metadata": {
    "accelerator": "GPU",
    "colab": {
      "gpuType": "T4",
      "provenance": [],
      "include_colab_link": true
    },
    "kernelspec": {
      "display_name": "Python 3",
      "name": "python3"
    },
    "language_info": {
      "name": "python"
    }
  },
  "nbformat": 4,
  "nbformat_minor": 0
}